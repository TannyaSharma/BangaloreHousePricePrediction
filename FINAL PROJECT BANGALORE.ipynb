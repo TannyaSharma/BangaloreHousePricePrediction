{
 "cells": [
  {
   "cell_type": "markdown",
   "metadata": {
    "id": "XrFXv6prU9sI"
   },
   "source": [
    "# **Import the required packages**"
   ]
  },
  {
   "cell_type": "code",
   "execution_count": 1,
   "metadata": {},
   "outputs": [],
   "source": [
    "import tensorflow as tf\n",
    "from tensorflow.keras import Sequential, Input\n",
    "from tensorflow.keras.layers import Dense"
   ]
  },
  {
   "cell_type": "code",
   "execution_count": 6,
   "metadata": {
    "id": "1LC2AG9whe24"
   },
   "outputs": [],
   "source": [
    "#For data reading and visualization\n",
    "import pandas as pd\n",
    "import numpy as np\n",
    "import matplotlib.pyplot as plt\n",
    "import seaborn as sns\n",
    "import matplotlib\n",
    "\n",
    "\n",
    "#For model building\n",
    "from sklearn.model_selection import train_test_split\n",
    "from sklearn.ensemble import RandomForestRegressor\n",
    "\n",
    "\n",
    "#For evaluation\n",
    "from sklearn.metrics import r2_score,mean_absolute_error,mean_squared_error\n",
    "from sklearn.preprocessing import MinMaxScaler\n"
   ]
  },
  {
   "cell_type": "markdown",
   "metadata": {
    "id": "a3SaQIIXVI6-"
   },
   "source": [
    "# **Read and analyze data from csv file**"
   ]
  },
  {
   "cell_type": "code",
   "execution_count": 10,
   "metadata": {
    "id": "e96hxIZPkg6E",
    "outputId": "24aeca78-d6c6-4529-c2b9-8d39a7151b17"
   },
   "outputs": [
    {
     "data": {
      "text/html": [
       "<div>\n",
       "<style scoped>\n",
       "    .dataframe tbody tr th:only-of-type {\n",
       "        vertical-align: middle;\n",
       "    }\n",
       "\n",
       "    .dataframe tbody tr th {\n",
       "        vertical-align: top;\n",
       "    }\n",
       "\n",
       "    .dataframe thead th {\n",
       "        text-align: right;\n",
       "    }\n",
       "</style>\n",
       "<table border=\"1\" class=\"dataframe\">\n",
       "  <thead>\n",
       "    <tr style=\"text-align: right;\">\n",
       "      <th></th>\n",
       "      <th>area_type</th>\n",
       "      <th>availability</th>\n",
       "      <th>location</th>\n",
       "      <th>size</th>\n",
       "      <th>society</th>\n",
       "      <th>total_sqft</th>\n",
       "      <th>bath</th>\n",
       "      <th>balcony</th>\n",
       "      <th>price</th>\n",
       "    </tr>\n",
       "  </thead>\n",
       "  <tbody>\n",
       "    <tr>\n",
       "      <th>0</th>\n",
       "      <td>Super built-up  Area</td>\n",
       "      <td>19-Dec</td>\n",
       "      <td>Electronic City Phase II</td>\n",
       "      <td>2 BHK</td>\n",
       "      <td>Coomee</td>\n",
       "      <td>1056</td>\n",
       "      <td>2.0</td>\n",
       "      <td>1.0</td>\n",
       "      <td>39.07</td>\n",
       "    </tr>\n",
       "    <tr>\n",
       "      <th>1</th>\n",
       "      <td>Plot  Area</td>\n",
       "      <td>Ready To Move</td>\n",
       "      <td>Chikka Tirupathi</td>\n",
       "      <td>4 Bedroom</td>\n",
       "      <td>Theanmp</td>\n",
       "      <td>2600</td>\n",
       "      <td>5.0</td>\n",
       "      <td>3.0</td>\n",
       "      <td>120.00</td>\n",
       "    </tr>\n",
       "    <tr>\n",
       "      <th>2</th>\n",
       "      <td>Built-up  Area</td>\n",
       "      <td>Ready To Move</td>\n",
       "      <td>Uttarahalli</td>\n",
       "      <td>3 BHK</td>\n",
       "      <td>NaN</td>\n",
       "      <td>1440</td>\n",
       "      <td>2.0</td>\n",
       "      <td>3.0</td>\n",
       "      <td>62.00</td>\n",
       "    </tr>\n",
       "    <tr>\n",
       "      <th>3</th>\n",
       "      <td>Super built-up  Area</td>\n",
       "      <td>Ready To Move</td>\n",
       "      <td>Lingadheeranahalli</td>\n",
       "      <td>3 BHK</td>\n",
       "      <td>Soiewre</td>\n",
       "      <td>1521</td>\n",
       "      <td>3.0</td>\n",
       "      <td>1.0</td>\n",
       "      <td>95.00</td>\n",
       "    </tr>\n",
       "    <tr>\n",
       "      <th>4</th>\n",
       "      <td>Super built-up  Area</td>\n",
       "      <td>Ready To Move</td>\n",
       "      <td>Kothanur</td>\n",
       "      <td>2 BHK</td>\n",
       "      <td>NaN</td>\n",
       "      <td>1200</td>\n",
       "      <td>2.0</td>\n",
       "      <td>1.0</td>\n",
       "      <td>51.00</td>\n",
       "    </tr>\n",
       "    <tr>\n",
       "      <th>...</th>\n",
       "      <td>...</td>\n",
       "      <td>...</td>\n",
       "      <td>...</td>\n",
       "      <td>...</td>\n",
       "      <td>...</td>\n",
       "      <td>...</td>\n",
       "      <td>...</td>\n",
       "      <td>...</td>\n",
       "      <td>...</td>\n",
       "    </tr>\n",
       "    <tr>\n",
       "      <th>13315</th>\n",
       "      <td>Built-up  Area</td>\n",
       "      <td>Ready To Move</td>\n",
       "      <td>Whitefield</td>\n",
       "      <td>5 Bedroom</td>\n",
       "      <td>ArsiaEx</td>\n",
       "      <td>3453</td>\n",
       "      <td>4.0</td>\n",
       "      <td>0.0</td>\n",
       "      <td>231.00</td>\n",
       "    </tr>\n",
       "    <tr>\n",
       "      <th>13316</th>\n",
       "      <td>Super built-up  Area</td>\n",
       "      <td>Ready To Move</td>\n",
       "      <td>Richards Town</td>\n",
       "      <td>4 BHK</td>\n",
       "      <td>NaN</td>\n",
       "      <td>3600</td>\n",
       "      <td>5.0</td>\n",
       "      <td>NaN</td>\n",
       "      <td>400.00</td>\n",
       "    </tr>\n",
       "    <tr>\n",
       "      <th>13317</th>\n",
       "      <td>Built-up  Area</td>\n",
       "      <td>Ready To Move</td>\n",
       "      <td>Raja Rajeshwari Nagar</td>\n",
       "      <td>2 BHK</td>\n",
       "      <td>Mahla T</td>\n",
       "      <td>1141</td>\n",
       "      <td>2.0</td>\n",
       "      <td>1.0</td>\n",
       "      <td>60.00</td>\n",
       "    </tr>\n",
       "    <tr>\n",
       "      <th>13318</th>\n",
       "      <td>Super built-up  Area</td>\n",
       "      <td>18-Jun</td>\n",
       "      <td>Padmanabhanagar</td>\n",
       "      <td>4 BHK</td>\n",
       "      <td>SollyCl</td>\n",
       "      <td>4689</td>\n",
       "      <td>4.0</td>\n",
       "      <td>1.0</td>\n",
       "      <td>488.00</td>\n",
       "    </tr>\n",
       "    <tr>\n",
       "      <th>13319</th>\n",
       "      <td>Super built-up  Area</td>\n",
       "      <td>Ready To Move</td>\n",
       "      <td>Doddathoguru</td>\n",
       "      <td>1 BHK</td>\n",
       "      <td>NaN</td>\n",
       "      <td>550</td>\n",
       "      <td>1.0</td>\n",
       "      <td>1.0</td>\n",
       "      <td>17.00</td>\n",
       "    </tr>\n",
       "  </tbody>\n",
       "</table>\n",
       "<p>13320 rows × 9 columns</p>\n",
       "</div>"
      ],
      "text/plain": [
       "                  area_type   availability                  location  \\\n",
       "0      Super built-up  Area         19-Dec  Electronic City Phase II   \n",
       "1                Plot  Area  Ready To Move          Chikka Tirupathi   \n",
       "2            Built-up  Area  Ready To Move               Uttarahalli   \n",
       "3      Super built-up  Area  Ready To Move        Lingadheeranahalli   \n",
       "4      Super built-up  Area  Ready To Move                  Kothanur   \n",
       "...                     ...            ...                       ...   \n",
       "13315        Built-up  Area  Ready To Move                Whitefield   \n",
       "13316  Super built-up  Area  Ready To Move             Richards Town   \n",
       "13317        Built-up  Area  Ready To Move     Raja Rajeshwari Nagar   \n",
       "13318  Super built-up  Area         18-Jun           Padmanabhanagar   \n",
       "13319  Super built-up  Area  Ready To Move              Doddathoguru   \n",
       "\n",
       "            size  society total_sqft  bath  balcony   price  \n",
       "0          2 BHK  Coomee        1056   2.0      1.0   39.07  \n",
       "1      4 Bedroom  Theanmp       2600   5.0      3.0  120.00  \n",
       "2          3 BHK      NaN       1440   2.0      3.0   62.00  \n",
       "3          3 BHK  Soiewre       1521   3.0      1.0   95.00  \n",
       "4          2 BHK      NaN       1200   2.0      1.0   51.00  \n",
       "...          ...      ...        ...   ...      ...     ...  \n",
       "13315  5 Bedroom  ArsiaEx       3453   4.0      0.0  231.00  \n",
       "13316      4 BHK      NaN       3600   5.0      NaN  400.00  \n",
       "13317      2 BHK  Mahla T       1141   2.0      1.0   60.00  \n",
       "13318      4 BHK  SollyCl       4689   4.0      1.0  488.00  \n",
       "13319      1 BHK      NaN        550   1.0      1.0   17.00  \n",
       "\n",
       "[13320 rows x 9 columns]"
      ]
     },
     "execution_count": 10,
     "metadata": {},
     "output_type": "execute_result"
    }
   ],
   "source": [
    "df=pd.read_csv(\"C:/Users/L/Downloads/Bengaluru_House_Data.csv\")\n",
    "df"
   ]
  },
  {
   "cell_type": "code",
   "execution_count": 11,
   "metadata": {
    "id": "45Daw6Shk3GB",
    "outputId": "d438d586-a97b-49ca-a8c9-15306e0fc7ec"
   },
   "outputs": [
    {
     "name": "stdout",
     "output_type": "stream",
     "text": [
      "<class 'pandas.core.frame.DataFrame'>\n",
      "RangeIndex: 13320 entries, 0 to 13319\n",
      "Data columns (total 9 columns):\n",
      " #   Column        Non-Null Count  Dtype  \n",
      "---  ------        --------------  -----  \n",
      " 0   area_type     13320 non-null  object \n",
      " 1   availability  13320 non-null  object \n",
      " 2   location      13319 non-null  object \n",
      " 3   size          13304 non-null  object \n",
      " 4   society       7818 non-null   object \n",
      " 5   total_sqft    13320 non-null  object \n",
      " 6   bath          13247 non-null  float64\n",
      " 7   balcony       12711 non-null  float64\n",
      " 8   price         13320 non-null  float64\n",
      "dtypes: float64(3), object(6)\n",
      "memory usage: 936.7+ KB\n"
     ]
    }
   ],
   "source": [
    "df.info()"
   ]
  },
  {
   "cell_type": "code",
   "execution_count": 12,
   "metadata": {
    "id": "M94nC9LWkqNH",
    "outputId": "149d6248-2fcf-4d8b-ae3b-db9ab0a255e4"
   },
   "outputs": [
    {
     "data": {
      "text/html": [
       "<div>\n",
       "<style scoped>\n",
       "    .dataframe tbody tr th:only-of-type {\n",
       "        vertical-align: middle;\n",
       "    }\n",
       "\n",
       "    .dataframe tbody tr th {\n",
       "        vertical-align: top;\n",
       "    }\n",
       "\n",
       "    .dataframe thead th {\n",
       "        text-align: right;\n",
       "    }\n",
       "</style>\n",
       "<table border=\"1\" class=\"dataframe\">\n",
       "  <thead>\n",
       "    <tr style=\"text-align: right;\">\n",
       "      <th></th>\n",
       "      <th>bath</th>\n",
       "      <th>balcony</th>\n",
       "      <th>price</th>\n",
       "    </tr>\n",
       "  </thead>\n",
       "  <tbody>\n",
       "    <tr>\n",
       "      <th>count</th>\n",
       "      <td>13247.000000</td>\n",
       "      <td>12711.000000</td>\n",
       "      <td>13320.000000</td>\n",
       "    </tr>\n",
       "    <tr>\n",
       "      <th>mean</th>\n",
       "      <td>2.692610</td>\n",
       "      <td>1.584376</td>\n",
       "      <td>112.565627</td>\n",
       "    </tr>\n",
       "    <tr>\n",
       "      <th>std</th>\n",
       "      <td>1.341458</td>\n",
       "      <td>0.817263</td>\n",
       "      <td>148.971674</td>\n",
       "    </tr>\n",
       "    <tr>\n",
       "      <th>min</th>\n",
       "      <td>1.000000</td>\n",
       "      <td>0.000000</td>\n",
       "      <td>8.000000</td>\n",
       "    </tr>\n",
       "    <tr>\n",
       "      <th>25%</th>\n",
       "      <td>2.000000</td>\n",
       "      <td>1.000000</td>\n",
       "      <td>50.000000</td>\n",
       "    </tr>\n",
       "    <tr>\n",
       "      <th>50%</th>\n",
       "      <td>2.000000</td>\n",
       "      <td>2.000000</td>\n",
       "      <td>72.000000</td>\n",
       "    </tr>\n",
       "    <tr>\n",
       "      <th>75%</th>\n",
       "      <td>3.000000</td>\n",
       "      <td>2.000000</td>\n",
       "      <td>120.000000</td>\n",
       "    </tr>\n",
       "    <tr>\n",
       "      <th>max</th>\n",
       "      <td>40.000000</td>\n",
       "      <td>3.000000</td>\n",
       "      <td>3600.000000</td>\n",
       "    </tr>\n",
       "  </tbody>\n",
       "</table>\n",
       "</div>"
      ],
      "text/plain": [
       "               bath       balcony         price\n",
       "count  13247.000000  12711.000000  13320.000000\n",
       "mean       2.692610      1.584376    112.565627\n",
       "std        1.341458      0.817263    148.971674\n",
       "min        1.000000      0.000000      8.000000\n",
       "25%        2.000000      1.000000     50.000000\n",
       "50%        2.000000      2.000000     72.000000\n",
       "75%        3.000000      2.000000    120.000000\n",
       "max       40.000000      3.000000   3600.000000"
      ]
     },
     "execution_count": 12,
     "metadata": {},
     "output_type": "execute_result"
    }
   ],
   "source": [
    "df.describe()"
   ]
  },
  {
   "cell_type": "markdown",
   "metadata": {
    "id": "6G5gZ9AwVVti"
   },
   "source": [
    "# **Checking NaN values**"
   ]
  },
  {
   "cell_type": "code",
   "execution_count": 13,
   "metadata": {
    "id": "LhW_fntVkzmq",
    "outputId": "274de30c-dd72-4973-ad61-54fe388d026c"
   },
   "outputs": [
    {
     "data": {
      "text/plain": [
       "area_type          0\n",
       "availability       0\n",
       "location           1\n",
       "size              16\n",
       "society         5502\n",
       "total_sqft         0\n",
       "bath              73\n",
       "balcony          609\n",
       "price              0\n",
       "dtype: int64"
      ]
     },
     "execution_count": 13,
     "metadata": {},
     "output_type": "execute_result"
    }
   ],
   "source": [
    "df.isna().sum()"
   ]
  },
  {
   "cell_type": "markdown",
   "metadata": {
    "id": "QFL9c5j8V4Bb"
   },
   "source": [
    "# **Visualizing data**"
   ]
  },
  {
   "cell_type": "code",
   "execution_count": 14,
   "metadata": {
    "id": "q6jUJeV8GaA6",
    "outputId": "0c917934-b688-4977-9ebf-6ecf87aad6c7"
   },
   "outputs": [
    {
     "data": {
      "image/png": "[encoded data removed]",
      "text/plain": [
       "<Figure size 432x288 with 1 Axes>"
      ]
     },
     "metadata": {
      "needs_background": "light"
     },
     "output_type": "display_data"
    }
   ],
   "source": [
    "sns.countplot( x='area_type', data=df, palette=\"icefire\");"
   ]
  },
  {
   "cell_type": "code",
   "execution_count": 15,
   "metadata": {
    "id": "dolqhxOgmUIv",
    "outputId": "228a19bc-4356-462d-d542-fb1a7dd3560d"
   },
   "outputs": [
    {
     "data": {
      "text/plain": [
       "<BarContainer object of 13320 artists>"
      ]
     },
     "execution_count": 15,
     "metadata": {},
     "output_type": "execute_result"
    },
    {
     "data": {
      "image/png": "[encoded data removed]",
      "text/plain": [
       "<Figure size 432x288 with 1 Axes>"
      ]
     },
     "metadata": {
      "needs_background": "light"
     },
     "output_type": "display_data"
    }
   ],
   "source": [
    "plt.bar(df.area_type,df.price,color=['salmon'])"
   ]
  },
  {
   "cell_type": "code",
   "execution_count": 16,
   "metadata": {
    "id": "Zqh-HdAnveDy",
    "outputId": "01407b3d-5a95-4650-f24e-7eec7d939e33"
   },
   "outputs": [],
   "source": [
    "#sns.scatterplot(df['society'],df['price'])"
   ]
  },
  {
   "cell_type": "code",
   "execution_count": 17,
   "metadata": {},
   "outputs": [
    {
     "data": {
      "text/plain": [
       "<AxesSubplot:>"
      ]
     },
     "execution_count": 17,
     "metadata": {},
     "output_type": "execute_result"
    },
    {
     "data": {
      "image/png": "[encoded data removed]",
      "text/plain": [
       "<Figure size 720x432 with 2 Axes>"
      ]
     },
     "metadata": {
      "needs_background": "light"
     },
     "output_type": "display_data"
    }
   ],
   "source": [
    "#Quality correlation matrix\n",
    "k = 5 #number of variables for heatmap\n",
    "cols = df.corr().nlargest(k, 'price')['price'].index\n",
    "cm = df[cols].corr()\n",
    "plt.figure(figsize=(10,6))\n",
    "sns.heatmap(cm, annot=True, cmap = 'viridis')"
   ]
  },
  {
   "cell_type": "markdown",
   "metadata": {
    "id": "1a9YfcF0UU4t"
   },
   "source": [
    "# **Dropping the columns which won't influence our model much**"
   ]
  },
  {
   "cell_type": "code",
   "execution_count": 18,
   "metadata": {
    "id": "NClU2Ej7oa9b",
    "outputId": "7795344a-00bf-41b2-f222-26eb28c40b8c"
   },
   "outputs": [
    {
     "data": {
      "text/plain": [
       "(13320, 9)"
      ]
     },
     "execution_count": 18,
     "metadata": {},
     "output_type": "execute_result"
    }
   ],
   "source": [
    "df.shape\n"
   ]
  },
  {
   "cell_type": "code",
   "execution_count": 19,
   "metadata": {
    "id": "WUdeK2lL8KB3",
    "outputId": "0a426dc6-d0f9-471a-8f63-2edb04585776"
   },
   "outputs": [
    {
     "data": {
      "text/html": [
       "<div>\n",
       "<style scoped>\n",
       "    .dataframe tbody tr th:only-of-type {\n",
       "        vertical-align: middle;\n",
       "    }\n",
       "\n",
       "    .dataframe tbody tr th {\n",
       "        vertical-align: top;\n",
       "    }\n",
       "\n",
       "    .dataframe thead th {\n",
       "        text-align: right;\n",
       "    }\n",
       "</style>\n",
       "<table border=\"1\" class=\"dataframe\">\n",
       "  <thead>\n",
       "    <tr style=\"text-align: right;\">\n",
       "      <th></th>\n",
       "      <th>location</th>\n",
       "      <th>size</th>\n",
       "      <th>total_sqft</th>\n",
       "      <th>bath</th>\n",
       "      <th>balcony</th>\n",
       "      <th>price</th>\n",
       "    </tr>\n",
       "  </thead>\n",
       "  <tbody>\n",
       "    <tr>\n",
       "      <th>0</th>\n",
       "      <td>Electronic City Phase II</td>\n",
       "      <td>2 BHK</td>\n",
       "      <td>1056</td>\n",
       "      <td>2.0</td>\n",
       "      <td>1.0</td>\n",
       "      <td>39.07</td>\n",
       "    </tr>\n",
       "    <tr>\n",
       "      <th>1</th>\n",
       "      <td>Chikka Tirupathi</td>\n",
       "      <td>4 Bedroom</td>\n",
       "      <td>2600</td>\n",
       "      <td>5.0</td>\n",
       "      <td>3.0</td>\n",
       "      <td>120.00</td>\n",
       "    </tr>\n",
       "    <tr>\n",
       "      <th>2</th>\n",
       "      <td>Uttarahalli</td>\n",
       "      <td>3 BHK</td>\n",
       "      <td>1440</td>\n",
       "      <td>2.0</td>\n",
       "      <td>3.0</td>\n",
       "      <td>62.00</td>\n",
       "    </tr>\n",
       "    <tr>\n",
       "      <th>3</th>\n",
       "      <td>Lingadheeranahalli</td>\n",
       "      <td>3 BHK</td>\n",
       "      <td>1521</td>\n",
       "      <td>3.0</td>\n",
       "      <td>1.0</td>\n",
       "      <td>95.00</td>\n",
       "    </tr>\n",
       "    <tr>\n",
       "      <th>4</th>\n",
       "      <td>Kothanur</td>\n",
       "      <td>2 BHK</td>\n",
       "      <td>1200</td>\n",
       "      <td>2.0</td>\n",
       "      <td>1.0</td>\n",
       "      <td>51.00</td>\n",
       "    </tr>\n",
       "    <tr>\n",
       "      <th>...</th>\n",
       "      <td>...</td>\n",
       "      <td>...</td>\n",
       "      <td>...</td>\n",
       "      <td>...</td>\n",
       "      <td>...</td>\n",
       "      <td>...</td>\n",
       "    </tr>\n",
       "    <tr>\n",
       "      <th>13315</th>\n",
       "      <td>Whitefield</td>\n",
       "      <td>5 Bedroom</td>\n",
       "      <td>3453</td>\n",
       "      <td>4.0</td>\n",
       "      <td>0.0</td>\n",
       "      <td>231.00</td>\n",
       "    </tr>\n",
       "    <tr>\n",
       "      <th>13316</th>\n",
       "      <td>Richards Town</td>\n",
       "      <td>4 BHK</td>\n",
       "      <td>3600</td>\n",
       "      <td>5.0</td>\n",
       "      <td>NaN</td>\n",
       "      <td>400.00</td>\n",
       "    </tr>\n",
       "    <tr>\n",
       "      <th>13317</th>\n",
       "      <td>Raja Rajeshwari Nagar</td>\n",
       "      <td>2 BHK</td>\n",
       "      <td>1141</td>\n",
       "      <td>2.0</td>\n",
       "      <td>1.0</td>\n",
       "      <td>60.00</td>\n",
       "    </tr>\n",
       "    <tr>\n",
       "      <th>13318</th>\n",
       "      <td>Padmanabhanagar</td>\n",
       "      <td>4 BHK</td>\n",
       "      <td>4689</td>\n",
       "      <td>4.0</td>\n",
       "      <td>1.0</td>\n",
       "      <td>488.00</td>\n",
       "    </tr>\n",
       "    <tr>\n",
       "      <th>13319</th>\n",
       "      <td>Doddathoguru</td>\n",
       "      <td>1 BHK</td>\n",
       "      <td>550</td>\n",
       "      <td>1.0</td>\n",
       "      <td>1.0</td>\n",
       "      <td>17.00</td>\n",
       "    </tr>\n",
       "  </tbody>\n",
       "</table>\n",
       "<p>13320 rows × 6 columns</p>\n",
       "</div>"
      ],
      "text/plain": [
       "                       location       size total_sqft  bath  balcony   price\n",
       "0      Electronic City Phase II      2 BHK       1056   2.0      1.0   39.07\n",
       "1              Chikka Tirupathi  4 Bedroom       2600   5.0      3.0  120.00\n",
       "2                   Uttarahalli      3 BHK       1440   2.0      3.0   62.00\n",
       "3            Lingadheeranahalli      3 BHK       1521   3.0      1.0   95.00\n",
       "4                      Kothanur      2 BHK       1200   2.0      1.0   51.00\n",
       "...                         ...        ...        ...   ...      ...     ...\n",
       "13315                Whitefield  5 Bedroom       3453   4.0      0.0  231.00\n",
       "13316             Richards Town      4 BHK       3600   5.0      NaN  400.00\n",
       "13317     Raja Rajeshwari Nagar      2 BHK       1141   2.0      1.0   60.00\n",
       "13318           Padmanabhanagar      4 BHK       4689   4.0      1.0  488.00\n",
       "13319              Doddathoguru      1 BHK        550   1.0      1.0   17.00\n",
       "\n",
       "[13320 rows x 6 columns]"
      ]
     },
     "execution_count": 19,
     "metadata": {},
     "output_type": "execute_result"
    }
   ],
   "source": [
    "df=df.drop(['area_type','availability','society'],axis=1)\n",
    "df"
   ]
  },
  {
   "cell_type": "code",
   "execution_count": 20,
   "metadata": {
    "id": "roXWUx6nIiel",
    "outputId": "77f7fab3-efe3-4ff1-b7d0-beaf42a47283"
   },
   "outputs": [
    {
     "data": {
      "text/plain": [
       "location        1\n",
       "size           16\n",
       "total_sqft      0\n",
       "bath           73\n",
       "balcony       609\n",
       "price           0\n",
       "dtype: int64"
      ]
     },
     "execution_count": 20,
     "metadata": {},
     "output_type": "execute_result"
    }
   ],
   "source": [
    "df.isna().sum()"
   ]
  },
  {
   "cell_type": "code",
   "execution_count": 21,
   "metadata": {
    "id": "33srxQolMrP2"
   },
   "outputs": [],
   "source": [
    "df=df.dropna()"
   ]
  },
  {
   "cell_type": "code",
   "execution_count": 22,
   "metadata": {
    "id": "BM-RT5Beokyi",
    "outputId": "f1507345-b923-41e7-cc52-be587319def7"
   },
   "outputs": [
    {
     "data": {
      "text/plain": [
       "location      0\n",
       "size          0\n",
       "total_sqft    0\n",
       "bath          0\n",
       "balcony       0\n",
       "price         0\n",
       "dtype: int64"
      ]
     },
     "execution_count": 22,
     "metadata": {},
     "output_type": "execute_result"
    }
   ],
   "source": [
    "df.isna().sum()"
   ]
  },
  {
   "cell_type": "code",
   "execution_count": 23,
   "metadata": {
    "id": "31YUPnNWoQTv",
    "outputId": "3f5a78f8-2d51-4da2-a087-6d46903ecdf4"
   },
   "outputs": [
    {
     "data": {
      "text/plain": [
       "(12710, 6)"
      ]
     },
     "execution_count": 23,
     "metadata": {},
     "output_type": "execute_result"
    }
   ],
   "source": [
    "df.shape"
   ]
  },
  {
   "cell_type": "code",
   "execution_count": 24,
   "metadata": {
    "id": "awSUzTP2opQt",
    "outputId": "ec540724-9055-41ea-9900-b4717a4ae5eb"
   },
   "outputs": [
    {
     "data": {
      "text/html": [
       "<div>\n",
       "<style scoped>\n",
       "    .dataframe tbody tr th:only-of-type {\n",
       "        vertical-align: middle;\n",
       "    }\n",
       "\n",
       "    .dataframe tbody tr th {\n",
       "        vertical-align: top;\n",
       "    }\n",
       "\n",
       "    .dataframe thead th {\n",
       "        text-align: right;\n",
       "    }\n",
       "</style>\n",
       "<table border=\"1\" class=\"dataframe\">\n",
       "  <thead>\n",
       "    <tr style=\"text-align: right;\">\n",
       "      <th></th>\n",
       "      <th>location</th>\n",
       "      <th>size</th>\n",
       "      <th>total_sqft</th>\n",
       "      <th>bath</th>\n",
       "      <th>balcony</th>\n",
       "      <th>price</th>\n",
       "    </tr>\n",
       "  </thead>\n",
       "  <tbody>\n",
       "    <tr>\n",
       "      <th>0</th>\n",
       "      <td>Electronic City Phase II</td>\n",
       "      <td>2 BHK</td>\n",
       "      <td>1056</td>\n",
       "      <td>2.0</td>\n",
       "      <td>1.0</td>\n",
       "      <td>39.07</td>\n",
       "    </tr>\n",
       "    <tr>\n",
       "      <th>1</th>\n",
       "      <td>Chikka Tirupathi</td>\n",
       "      <td>4 Bedroom</td>\n",
       "      <td>2600</td>\n",
       "      <td>5.0</td>\n",
       "      <td>3.0</td>\n",
       "      <td>120.00</td>\n",
       "    </tr>\n",
       "    <tr>\n",
       "      <th>2</th>\n",
       "      <td>Uttarahalli</td>\n",
       "      <td>3 BHK</td>\n",
       "      <td>1440</td>\n",
       "      <td>2.0</td>\n",
       "      <td>3.0</td>\n",
       "      <td>62.00</td>\n",
       "    </tr>\n",
       "    <tr>\n",
       "      <th>3</th>\n",
       "      <td>Lingadheeranahalli</td>\n",
       "      <td>3 BHK</td>\n",
       "      <td>1521</td>\n",
       "      <td>3.0</td>\n",
       "      <td>1.0</td>\n",
       "      <td>95.00</td>\n",
       "    </tr>\n",
       "    <tr>\n",
       "      <th>4</th>\n",
       "      <td>Kothanur</td>\n",
       "      <td>2 BHK</td>\n",
       "      <td>1200</td>\n",
       "      <td>2.0</td>\n",
       "      <td>1.0</td>\n",
       "      <td>51.00</td>\n",
       "    </tr>\n",
       "  </tbody>\n",
       "</table>\n",
       "</div>"
      ],
      "text/plain": [
       "                   location       size total_sqft  bath  balcony   price\n",
       "0  Electronic City Phase II      2 BHK       1056   2.0      1.0   39.07\n",
       "1          Chikka Tirupathi  4 Bedroom       2600   5.0      3.0  120.00\n",
       "2               Uttarahalli      3 BHK       1440   2.0      3.0   62.00\n",
       "3        Lingadheeranahalli      3 BHK       1521   3.0      1.0   95.00\n",
       "4                  Kothanur      2 BHK       1200   2.0      1.0   51.00"
      ]
     },
     "execution_count": 24,
     "metadata": {},
     "output_type": "execute_result"
    }
   ],
   "source": [
    "df.head()"
   ]
  },
  {
   "cell_type": "markdown",
   "metadata": {},
   "source": [
    "# **Creating a column named BHK**"
   ]
  },
  {
   "cell_type": "code",
   "execution_count": 25,
   "metadata": {
    "id": "4rfjuQF4orcl",
    "outputId": "5a88a8ef-baf6-42f3-f690-da09f8dedc09"
   },
   "outputs": [
    {
     "name": "stderr",
     "output_type": "stream",
     "text": [
      "C:\\Users\\L\\AppData\\Local\\Temp/ipykernel_3560/3277279279.py:1: SettingWithCopyWarning: \n",
      "A value is trying to be set on a copy of a slice from a DataFrame.\n",
      "Try using .loc[row_indexer,col_indexer] = value instead\n",
      "\n",
      "See the caveats in the documentation: https://pandas.pydata.org/pandas-docs/stable/user_guide/indexing.html#returning-a-view-versus-a-copy\n",
      "  df['BHK']= df['size'].apply(lambda x: int(x.split(' ')[0]))\n"
     ]
    },
    {
     "data": {
      "text/html": [
       "<div>\n",
       "<style scoped>\n",
       "    .dataframe tbody tr th:only-of-type {\n",
       "        vertical-align: middle;\n",
       "    }\n",
       "\n",
       "    .dataframe tbody tr th {\n",
       "        vertical-align: top;\n",
       "    }\n",
       "\n",
       "    .dataframe thead th {\n",
       "        text-align: right;\n",
       "    }\n",
       "</style>\n",
       "<table border=\"1\" class=\"dataframe\">\n",
       "  <thead>\n",
       "    <tr style=\"text-align: right;\">\n",
       "      <th></th>\n",
       "      <th>location</th>\n",
       "      <th>size</th>\n",
       "      <th>total_sqft</th>\n",
       "      <th>bath</th>\n",
       "      <th>balcony</th>\n",
       "      <th>price</th>\n",
       "      <th>BHK</th>\n",
       "    </tr>\n",
       "  </thead>\n",
       "  <tbody>\n",
       "    <tr>\n",
       "      <th>0</th>\n",
       "      <td>Electronic City Phase II</td>\n",
       "      <td>2 BHK</td>\n",
       "      <td>1056</td>\n",
       "      <td>2.0</td>\n",
       "      <td>1.0</td>\n",
       "      <td>39.07</td>\n",
       "      <td>2</td>\n",
       "    </tr>\n",
       "    <tr>\n",
       "      <th>1</th>\n",
       "      <td>Chikka Tirupathi</td>\n",
       "      <td>4 Bedroom</td>\n",
       "      <td>2600</td>\n",
       "      <td>5.0</td>\n",
       "      <td>3.0</td>\n",
       "      <td>120.00</td>\n",
       "      <td>4</td>\n",
       "    </tr>\n",
       "    <tr>\n",
       "      <th>2</th>\n",
       "      <td>Uttarahalli</td>\n",
       "      <td>3 BHK</td>\n",
       "      <td>1440</td>\n",
       "      <td>2.0</td>\n",
       "      <td>3.0</td>\n",
       "      <td>62.00</td>\n",
       "      <td>3</td>\n",
       "    </tr>\n",
       "    <tr>\n",
       "      <th>3</th>\n",
       "      <td>Lingadheeranahalli</td>\n",
       "      <td>3 BHK</td>\n",
       "      <td>1521</td>\n",
       "      <td>3.0</td>\n",
       "      <td>1.0</td>\n",
       "      <td>95.00</td>\n",
       "      <td>3</td>\n",
       "    </tr>\n",
       "    <tr>\n",
       "      <th>4</th>\n",
       "      <td>Kothanur</td>\n",
       "      <td>2 BHK</td>\n",
       "      <td>1200</td>\n",
       "      <td>2.0</td>\n",
       "      <td>1.0</td>\n",
       "      <td>51.00</td>\n",
       "      <td>2</td>\n",
       "    </tr>\n",
       "  </tbody>\n",
       "</table>\n",
       "</div>"
      ],
      "text/plain": [
       "                   location       size total_sqft  bath  balcony   price  BHK\n",
       "0  Electronic City Phase II      2 BHK       1056   2.0      1.0   39.07    2\n",
       "1          Chikka Tirupathi  4 Bedroom       2600   5.0      3.0  120.00    4\n",
       "2               Uttarahalli      3 BHK       1440   2.0      3.0   62.00    3\n",
       "3        Lingadheeranahalli      3 BHK       1521   3.0      1.0   95.00    3\n",
       "4                  Kothanur      2 BHK       1200   2.0      1.0   51.00    2"
      ]
     },
     "execution_count": 25,
     "metadata": {},
     "output_type": "execute_result"
    }
   ],
   "source": [
    "df['BHK']= df['size'].apply(lambda x: int(x.split(' ')[0]))\n",
    "df.head()"
   ]
  },
  {
   "cell_type": "code",
   "execution_count": 26,
   "metadata": {
    "id": "Tb5a_6Kcpzsh"
   },
   "outputs": [],
   "source": [
    "df=df.drop('size',axis=1)"
   ]
  },
  {
   "cell_type": "code",
   "execution_count": 27,
   "metadata": {
    "id": "PebgAFlNoq9O",
    "outputId": "1d7fd369-1b3a-49d3-8d71-caea20e3fa63"
   },
   "outputs": [
    {
     "data": {
      "text/plain": [
       "(12710, 6)"
      ]
     },
     "execution_count": 27,
     "metadata": {},
     "output_type": "execute_result"
    }
   ],
   "source": [
    "df.shape"
   ]
  },
  {
   "cell_type": "code",
   "execution_count": 28,
   "metadata": {
    "id": "s1adhAKEpwZy",
    "outputId": "05203a3d-91d9-442d-f38b-bec146c22798"
   },
   "outputs": [
    {
     "data": {
      "text/plain": [
       "array(['1056', '2600', '1440', ..., '1133 - 1384', '774', '4689'],\n",
       "      dtype=object)"
      ]
     },
     "execution_count": 28,
     "metadata": {},
     "output_type": "execute_result"
    }
   ],
   "source": [
    "df['total_sqft'].unique()"
   ]
  },
  {
   "cell_type": "markdown",
   "metadata": {},
   "source": [
    "# **Preprocessing total sq.feet column**"
   ]
  },
  {
   "cell_type": "code",
   "execution_count": 29,
   "metadata": {
    "id": "h0npyOXZqE4k"
   },
   "outputs": [],
   "source": [
    "def preprocess_sqft(x):\n",
    "    tokens = x.split('-')\n",
    "    if len(tokens) == 2:\n",
    "        return (float(tokens[0])+float(tokens[1]))/2\n",
    "    try:\n",
    "        return float(x)\n",
    "    except:\n",
    "        return None\n",
    "        \n",
    "        \n",
    "\n",
    "df['total_sqft']=df['total_sqft'].apply(preprocess_sqft)"
   ]
  },
  {
   "cell_type": "code",
   "execution_count": 30,
   "metadata": {
    "id": "r8puk0Ayp0mu",
    "outputId": "7d004da0-4561-4490-95e6-940685c50d18"
   },
   "outputs": [
    {
     "data": {
      "text/plain": [
       "(12710, 6)"
      ]
     },
     "execution_count": 30,
     "metadata": {},
     "output_type": "execute_result"
    }
   ],
   "source": [
    "df.shape"
   ]
  },
  {
   "cell_type": "code",
   "execution_count": 24,
   "metadata": {
    "id": "vtOetnNAsdCK",
    "outputId": "c1a462d1-7597-4d3b-c5ed-7b4926312011"
   },
   "outputs": [
    {
     "data": {
      "text/html": [
       "<div>\n",
       "<style scoped>\n",
       "    .dataframe tbody tr th:only-of-type {\n",
       "        vertical-align: middle;\n",
       "    }\n",
       "\n",
       "    .dataframe tbody tr th {\n",
       "        vertical-align: top;\n",
       "    }\n",
       "\n",
       "    .dataframe thead th {\n",
       "        text-align: right;\n",
       "    }\n",
       "</style>\n",
       "<table border=\"1\" class=\"dataframe\">\n",
       "  <thead>\n",
       "    <tr style=\"text-align: right;\">\n",
       "      <th></th>\n",
       "      <th>location</th>\n",
       "      <th>total_sqft</th>\n",
       "      <th>bath</th>\n",
       "      <th>balcony</th>\n",
       "      <th>price</th>\n",
       "      <th>BHK</th>\n",
       "    </tr>\n",
       "  </thead>\n",
       "  <tbody>\n",
       "  </tbody>\n",
       "</table>\n",
       "</div>"
      ],
      "text/plain": [
       "Empty DataFrame\n",
       "Columns: [location, total_sqft, bath, balcony, price, BHK]\n",
       "Index: []"
      ]
     },
     "execution_count": 24,
     "metadata": {},
     "output_type": "execute_result"
    }
   ],
   "source": [
    "df.total_sqft.head()\n",
    "def is_float(x):\n",
    "  try:\n",
    "    float(x)\n",
    "  except:\n",
    "    return False\n",
    "  return True\n",
    "df[~df['total_sqft'].apply(is_float)].head(10)"
   ]
  },
  {
   "cell_type": "code",
   "execution_count": 31,
   "metadata": {
    "id": "6KtpilzaCUqG",
    "outputId": "4b83bf85-9301-4fb0-8c13-df568f670876"
   },
   "outputs": [
    {
     "data": {
      "text/html": [
       "<div>\n",
       "<style scoped>\n",
       "    .dataframe tbody tr th:only-of-type {\n",
       "        vertical-align: middle;\n",
       "    }\n",
       "\n",
       "    .dataframe tbody tr th {\n",
       "        vertical-align: top;\n",
       "    }\n",
       "\n",
       "    .dataframe thead th {\n",
       "        text-align: right;\n",
       "    }\n",
       "</style>\n",
       "<table border=\"1\" class=\"dataframe\">\n",
       "  <thead>\n",
       "    <tr style=\"text-align: right;\">\n",
       "      <th></th>\n",
       "      <th>location</th>\n",
       "      <th>total_sqft</th>\n",
       "      <th>bath</th>\n",
       "      <th>balcony</th>\n",
       "      <th>price</th>\n",
       "      <th>BHK</th>\n",
       "    </tr>\n",
       "  </thead>\n",
       "  <tbody>\n",
       "    <tr>\n",
       "      <th>410</th>\n",
       "      <td>Kengeri</td>\n",
       "      <td>NaN</td>\n",
       "      <td>1.0</td>\n",
       "      <td>0.0</td>\n",
       "      <td>18.50</td>\n",
       "      <td>1</td>\n",
       "    </tr>\n",
       "    <tr>\n",
       "      <th>775</th>\n",
       "      <td>Basavanagara</td>\n",
       "      <td>NaN</td>\n",
       "      <td>2.0</td>\n",
       "      <td>1.0</td>\n",
       "      <td>93.00</td>\n",
       "      <td>1</td>\n",
       "    </tr>\n",
       "    <tr>\n",
       "      <th>1019</th>\n",
       "      <td>Marathi Layout</td>\n",
       "      <td>NaN</td>\n",
       "      <td>1.0</td>\n",
       "      <td>0.0</td>\n",
       "      <td>110.00</td>\n",
       "      <td>1</td>\n",
       "    </tr>\n",
       "    <tr>\n",
       "      <th>1086</th>\n",
       "      <td>Narasapura</td>\n",
       "      <td>NaN</td>\n",
       "      <td>2.0</td>\n",
       "      <td>2.0</td>\n",
       "      <td>29.50</td>\n",
       "      <td>2</td>\n",
       "    </tr>\n",
       "    <tr>\n",
       "      <th>1400</th>\n",
       "      <td>Chamrajpet</td>\n",
       "      <td>NaN</td>\n",
       "      <td>9.0</td>\n",
       "      <td>1.0</td>\n",
       "      <td>296.00</td>\n",
       "      <td>9</td>\n",
       "    </tr>\n",
       "    <tr>\n",
       "      <th>1712</th>\n",
       "      <td>Singena Agrahara</td>\n",
       "      <td>NaN</td>\n",
       "      <td>3.0</td>\n",
       "      <td>1.0</td>\n",
       "      <td>95.00</td>\n",
       "      <td>3</td>\n",
       "    </tr>\n",
       "    <tr>\n",
       "      <th>1743</th>\n",
       "      <td>Hosa Road</td>\n",
       "      <td>NaN</td>\n",
       "      <td>3.0</td>\n",
       "      <td>1.0</td>\n",
       "      <td>115.00</td>\n",
       "      <td>3</td>\n",
       "    </tr>\n",
       "    <tr>\n",
       "      <th>1821</th>\n",
       "      <td>Sarjapur</td>\n",
       "      <td>NaN</td>\n",
       "      <td>3.0</td>\n",
       "      <td>1.0</td>\n",
       "      <td>76.00</td>\n",
       "      <td>3</td>\n",
       "    </tr>\n",
       "    <tr>\n",
       "      <th>2881</th>\n",
       "      <td>Volagerekallahalli</td>\n",
       "      <td>NaN</td>\n",
       "      <td>2.0</td>\n",
       "      <td>2.0</td>\n",
       "      <td>38.00</td>\n",
       "      <td>2</td>\n",
       "    </tr>\n",
       "    <tr>\n",
       "      <th>3228</th>\n",
       "      <td>Dodda Banaswadi</td>\n",
       "      <td>NaN</td>\n",
       "      <td>5.0</td>\n",
       "      <td>1.0</td>\n",
       "      <td>140.00</td>\n",
       "      <td>5</td>\n",
       "    </tr>\n",
       "    <tr>\n",
       "      <th>3285</th>\n",
       "      <td>Whitefield</td>\n",
       "      <td>NaN</td>\n",
       "      <td>4.0</td>\n",
       "      <td>2.0</td>\n",
       "      <td>378.00</td>\n",
       "      <td>4</td>\n",
       "    </tr>\n",
       "    <tr>\n",
       "      <th>4113</th>\n",
       "      <td>BTM Layout</td>\n",
       "      <td>NaN</td>\n",
       "      <td>3.0</td>\n",
       "      <td>2.0</td>\n",
       "      <td>10.00</td>\n",
       "      <td>3</td>\n",
       "    </tr>\n",
       "    <tr>\n",
       "      <th>5453</th>\n",
       "      <td>Kannur</td>\n",
       "      <td>NaN</td>\n",
       "      <td>6.0</td>\n",
       "      <td>3.0</td>\n",
       "      <td>75.00</td>\n",
       "      <td>6</td>\n",
       "    </tr>\n",
       "    <tr>\n",
       "      <th>5537</th>\n",
       "      <td>Frazer Town</td>\n",
       "      <td>NaN</td>\n",
       "      <td>3.0</td>\n",
       "      <td>1.0</td>\n",
       "      <td>180.00</td>\n",
       "      <td>3</td>\n",
       "    </tr>\n",
       "    <tr>\n",
       "      <th>5631</th>\n",
       "      <td>Thanisandra</td>\n",
       "      <td>NaN</td>\n",
       "      <td>4.0</td>\n",
       "      <td>2.0</td>\n",
       "      <td>185.00</td>\n",
       "      <td>3</td>\n",
       "    </tr>\n",
       "    <tr>\n",
       "      <th>5668</th>\n",
       "      <td>Judicial Layout</td>\n",
       "      <td>NaN</td>\n",
       "      <td>6.0</td>\n",
       "      <td>3.0</td>\n",
       "      <td>400.00</td>\n",
       "      <td>5</td>\n",
       "    </tr>\n",
       "    <tr>\n",
       "      <th>5708</th>\n",
       "      <td>Jigani</td>\n",
       "      <td>NaN</td>\n",
       "      <td>3.0</td>\n",
       "      <td>2.0</td>\n",
       "      <td>160.00</td>\n",
       "      <td>4</td>\n",
       "    </tr>\n",
       "    <tr>\n",
       "      <th>5976</th>\n",
       "      <td>1st Phase JP Nagar</td>\n",
       "      <td>NaN</td>\n",
       "      <td>1.0</td>\n",
       "      <td>1.0</td>\n",
       "      <td>63.00</td>\n",
       "      <td>1</td>\n",
       "    </tr>\n",
       "    <tr>\n",
       "      <th>6268</th>\n",
       "      <td>Chickpet</td>\n",
       "      <td>NaN</td>\n",
       "      <td>2.0</td>\n",
       "      <td>0.0</td>\n",
       "      <td>48.00</td>\n",
       "      <td>2</td>\n",
       "    </tr>\n",
       "    <tr>\n",
       "      <th>6303</th>\n",
       "      <td>JP Nagar</td>\n",
       "      <td>NaN</td>\n",
       "      <td>3.0</td>\n",
       "      <td>1.0</td>\n",
       "      <td>69.34</td>\n",
       "      <td>3</td>\n",
       "    </tr>\n",
       "    <tr>\n",
       "      <th>6333</th>\n",
       "      <td>Harohalli</td>\n",
       "      <td>NaN</td>\n",
       "      <td>2.0</td>\n",
       "      <td>0.0</td>\n",
       "      <td>200.00</td>\n",
       "      <td>2</td>\n",
       "    </tr>\n",
       "    <tr>\n",
       "      <th>6552</th>\n",
       "      <td>5 Bedroom Farm House in Lakshmipura</td>\n",
       "      <td>NaN</td>\n",
       "      <td>6.0</td>\n",
       "      <td>2.0</td>\n",
       "      <td>550.00</td>\n",
       "      <td>5</td>\n",
       "    </tr>\n",
       "    <tr>\n",
       "      <th>6592</th>\n",
       "      <td>Langford Town</td>\n",
       "      <td>NaN</td>\n",
       "      <td>4.0</td>\n",
       "      <td>2.0</td>\n",
       "      <td>211.00</td>\n",
       "      <td>4</td>\n",
       "    </tr>\n",
       "    <tr>\n",
       "      <th>6953</th>\n",
       "      <td>Hosa Road</td>\n",
       "      <td>NaN</td>\n",
       "      <td>3.0</td>\n",
       "      <td>1.0</td>\n",
       "      <td>109.00</td>\n",
       "      <td>3</td>\n",
       "    </tr>\n",
       "    <tr>\n",
       "      <th>7001</th>\n",
       "      <td>Thyagaraja Nagar</td>\n",
       "      <td>NaN</td>\n",
       "      <td>6.0</td>\n",
       "      <td>2.0</td>\n",
       "      <td>290.00</td>\n",
       "      <td>8</td>\n",
       "    </tr>\n",
       "    <tr>\n",
       "      <th>7248</th>\n",
       "      <td>Hulimavu</td>\n",
       "      <td>NaN</td>\n",
       "      <td>2.0</td>\n",
       "      <td>3.0</td>\n",
       "      <td>46.00</td>\n",
       "      <td>2</td>\n",
       "    </tr>\n",
       "    <tr>\n",
       "      <th>7334</th>\n",
       "      <td>Kanakpura Road</td>\n",
       "      <td>NaN</td>\n",
       "      <td>1.0</td>\n",
       "      <td>0.0</td>\n",
       "      <td>125.00</td>\n",
       "      <td>1</td>\n",
       "    </tr>\n",
       "    <tr>\n",
       "      <th>7520</th>\n",
       "      <td>Doddaballapur</td>\n",
       "      <td>NaN</td>\n",
       "      <td>2.0</td>\n",
       "      <td>1.0</td>\n",
       "      <td>48.00</td>\n",
       "      <td>3</td>\n",
       "    </tr>\n",
       "    <tr>\n",
       "      <th>7607</th>\n",
       "      <td>Bommenahalli</td>\n",
       "      <td>NaN</td>\n",
       "      <td>3.0</td>\n",
       "      <td>1.0</td>\n",
       "      <td>217.00</td>\n",
       "      <td>3</td>\n",
       "    </tr>\n",
       "    <tr>\n",
       "      <th>7726</th>\n",
       "      <td>Kanakpura Road</td>\n",
       "      <td>NaN</td>\n",
       "      <td>1.0</td>\n",
       "      <td>0.0</td>\n",
       "      <td>125.00</td>\n",
       "      <td>1</td>\n",
       "    </tr>\n",
       "    <tr>\n",
       "      <th>8273</th>\n",
       "      <td>V.V Puram</td>\n",
       "      <td>NaN</td>\n",
       "      <td>2.0</td>\n",
       "      <td>0.0</td>\n",
       "      <td>150.00</td>\n",
       "      <td>3</td>\n",
       "    </tr>\n",
       "    <tr>\n",
       "      <th>9423</th>\n",
       "      <td>Ramamurthy Nagar</td>\n",
       "      <td>NaN</td>\n",
       "      <td>1.0</td>\n",
       "      <td>1.0</td>\n",
       "      <td>48.00</td>\n",
       "      <td>1</td>\n",
       "    </tr>\n",
       "    <tr>\n",
       "      <th>9519</th>\n",
       "      <td>Bommenahalli</td>\n",
       "      <td>NaN</td>\n",
       "      <td>3.0</td>\n",
       "      <td>1.0</td>\n",
       "      <td>232.00</td>\n",
       "      <td>3</td>\n",
       "    </tr>\n",
       "    <tr>\n",
       "      <th>9734</th>\n",
       "      <td>Yelahanka New Town</td>\n",
       "      <td>NaN</td>\n",
       "      <td>2.0</td>\n",
       "      <td>1.0</td>\n",
       "      <td>18.00</td>\n",
       "      <td>1</td>\n",
       "    </tr>\n",
       "    <tr>\n",
       "      <th>10488</th>\n",
       "      <td>2 Bedroom Furnished Farm House in Kolar Road</td>\n",
       "      <td>NaN</td>\n",
       "      <td>2.0</td>\n",
       "      <td>2.0</td>\n",
       "      <td>200.00</td>\n",
       "      <td>2</td>\n",
       "    </tr>\n",
       "    <tr>\n",
       "      <th>10491</th>\n",
       "      <td>Rajapura</td>\n",
       "      <td>NaN</td>\n",
       "      <td>2.0</td>\n",
       "      <td>2.0</td>\n",
       "      <td>40.00</td>\n",
       "      <td>2</td>\n",
       "    </tr>\n",
       "    <tr>\n",
       "      <th>11320</th>\n",
       "      <td>Arishinakunte</td>\n",
       "      <td>NaN</td>\n",
       "      <td>1.0</td>\n",
       "      <td>0.0</td>\n",
       "      <td>170.00</td>\n",
       "      <td>1</td>\n",
       "    </tr>\n",
       "    <tr>\n",
       "      <th>11615</th>\n",
       "      <td>arudi</td>\n",
       "      <td>NaN</td>\n",
       "      <td>2.0</td>\n",
       "      <td>0.0</td>\n",
       "      <td>80.00</td>\n",
       "      <td>3</td>\n",
       "    </tr>\n",
       "    <tr>\n",
       "      <th>12186</th>\n",
       "      <td>7th Phase JP Nagar</td>\n",
       "      <td>NaN</td>\n",
       "      <td>2.0</td>\n",
       "      <td>1.0</td>\n",
       "      <td>51.00</td>\n",
       "      <td>2</td>\n",
       "    </tr>\n",
       "    <tr>\n",
       "      <th>12252</th>\n",
       "      <td>Gowdanapalya</td>\n",
       "      <td>NaN</td>\n",
       "      <td>5.0</td>\n",
       "      <td>0.0</td>\n",
       "      <td>75.00</td>\n",
       "      <td>5</td>\n",
       "    </tr>\n",
       "    <tr>\n",
       "      <th>12560</th>\n",
       "      <td>Hosa Road</td>\n",
       "      <td>NaN</td>\n",
       "      <td>3.0</td>\n",
       "      <td>1.0</td>\n",
       "      <td>110.00</td>\n",
       "      <td>3</td>\n",
       "    </tr>\n",
       "    <tr>\n",
       "      <th>12652</th>\n",
       "      <td>Billamaranahalli</td>\n",
       "      <td>NaN</td>\n",
       "      <td>2.0</td>\n",
       "      <td>2.0</td>\n",
       "      <td>150.00</td>\n",
       "      <td>2</td>\n",
       "    </tr>\n",
       "  </tbody>\n",
       "</table>\n",
       "</div>"
      ],
      "text/plain": [
       "                                           location  total_sqft  bath  \\\n",
       "410                                         Kengeri         NaN   1.0   \n",
       "775                                    Basavanagara         NaN   2.0   \n",
       "1019                                 Marathi Layout         NaN   1.0   \n",
       "1086                                     Narasapura         NaN   2.0   \n",
       "1400                                     Chamrajpet         NaN   9.0   \n",
       "1712                               Singena Agrahara         NaN   3.0   \n",
       "1743                                      Hosa Road         NaN   3.0   \n",
       "1821                                       Sarjapur         NaN   3.0   \n",
       "2881                             Volagerekallahalli         NaN   2.0   \n",
       "3228                                Dodda Banaswadi         NaN   5.0   \n",
       "3285                                     Whitefield         NaN   4.0   \n",
       "4113                                     BTM Layout         NaN   3.0   \n",
       "5453                                         Kannur         NaN   6.0   \n",
       "5537                                    Frazer Town         NaN   3.0   \n",
       "5631                                    Thanisandra         NaN   4.0   \n",
       "5668                                Judicial Layout         NaN   6.0   \n",
       "5708                                         Jigani         NaN   3.0   \n",
       "5976                             1st Phase JP Nagar         NaN   1.0   \n",
       "6268                                       Chickpet         NaN   2.0   \n",
       "6303                                       JP Nagar         NaN   3.0   \n",
       "6333                                      Harohalli         NaN   2.0   \n",
       "6552            5 Bedroom Farm House in Lakshmipura         NaN   6.0   \n",
       "6592                                  Langford Town         NaN   4.0   \n",
       "6953                                      Hosa Road         NaN   3.0   \n",
       "7001                               Thyagaraja Nagar         NaN   6.0   \n",
       "7248                                       Hulimavu         NaN   2.0   \n",
       "7334                                 Kanakpura Road         NaN   1.0   \n",
       "7520                                  Doddaballapur         NaN   2.0   \n",
       "7607                                   Bommenahalli         NaN   3.0   \n",
       "7726                                 Kanakpura Road         NaN   1.0   \n",
       "8273                                      V.V Puram         NaN   2.0   \n",
       "9423                               Ramamurthy Nagar         NaN   1.0   \n",
       "9519                                   Bommenahalli         NaN   3.0   \n",
       "9734                             Yelahanka New Town         NaN   2.0   \n",
       "10488  2 Bedroom Furnished Farm House in Kolar Road         NaN   2.0   \n",
       "10491                                      Rajapura         NaN   2.0   \n",
       "11320                                 Arishinakunte         NaN   1.0   \n",
       "11615                                         arudi         NaN   2.0   \n",
       "12186                            7th Phase JP Nagar         NaN   2.0   \n",
       "12252                                  Gowdanapalya         NaN   5.0   \n",
       "12560                                     Hosa Road         NaN   3.0   \n",
       "12652                              Billamaranahalli         NaN   2.0   \n",
       "\n",
       "       balcony   price  BHK  \n",
       "410        0.0   18.50    1  \n",
       "775        1.0   93.00    1  \n",
       "1019       0.0  110.00    1  \n",
       "1086       2.0   29.50    2  \n",
       "1400       1.0  296.00    9  \n",
       "1712       1.0   95.00    3  \n",
       "1743       1.0  115.00    3  \n",
       "1821       1.0   76.00    3  \n",
       "2881       2.0   38.00    2  \n",
       "3228       1.0  140.00    5  \n",
       "3285       2.0  378.00    4  \n",
       "4113       2.0   10.00    3  \n",
       "5453       3.0   75.00    6  \n",
       "5537       1.0  180.00    3  \n",
       "5631       2.0  185.00    3  \n",
       "5668       3.0  400.00    5  \n",
       "5708       2.0  160.00    4  \n",
       "5976       1.0   63.00    1  \n",
       "6268       0.0   48.00    2  \n",
       "6303       1.0   69.34    3  \n",
       "6333       0.0  200.00    2  \n",
       "6552       2.0  550.00    5  \n",
       "6592       2.0  211.00    4  \n",
       "6953       1.0  109.00    3  \n",
       "7001       2.0  290.00    8  \n",
       "7248       3.0   46.00    2  \n",
       "7334       0.0  125.00    1  \n",
       "7520       1.0   48.00    3  \n",
       "7607       1.0  217.00    3  \n",
       "7726       0.0  125.00    1  \n",
       "8273       0.0  150.00    3  \n",
       "9423       1.0   48.00    1  \n",
       "9519       1.0  232.00    3  \n",
       "9734       1.0   18.00    1  \n",
       "10488      2.0  200.00    2  \n",
       "10491      2.0   40.00    2  \n",
       "11320      0.0  170.00    1  \n",
       "11615      0.0   80.00    3  \n",
       "12186      1.0   51.00    2  \n",
       "12252      0.0   75.00    5  \n",
       "12560      1.0  110.00    3  \n",
       "12652      2.0  150.00    2  "
      ]
     },
     "execution_count": 31,
     "metadata": {},
     "output_type": "execute_result"
    }
   ],
   "source": [
    "df[~df.total_sqft.notnull()]"
   ]
  },
  {
   "cell_type": "code",
   "execution_count": 32,
   "metadata": {
    "id": "LajcxeHC8VCv",
    "outputId": "0cca76ae-b21d-4bb4-bc60-74486d16ae15"
   },
   "outputs": [
    {
     "data": {
      "text/plain": [
       "42"
      ]
     },
     "execution_count": 32,
     "metadata": {},
     "output_type": "execute_result"
    }
   ],
   "source": [
    "df.total_sqft.isnull().sum() "
   ]
  },
  {
   "cell_type": "code",
   "execution_count": 33,
   "metadata": {
    "id": "X-_u39A_Ccsr"
   },
   "outputs": [],
   "source": [
    "df=df.dropna()"
   ]
  },
  {
   "cell_type": "code",
   "execution_count": 34,
   "metadata": {
    "id": "oUcplEmbC5zc",
    "outputId": "2f3a6788-7a6c-4321-8fd7-b61ed2ebbfde"
   },
   "outputs": [
    {
     "data": {
      "text/html": [
       "<div>\n",
       "<style scoped>\n",
       "    .dataframe tbody tr th:only-of-type {\n",
       "        vertical-align: middle;\n",
       "    }\n",
       "\n",
       "    .dataframe tbody tr th {\n",
       "        vertical-align: top;\n",
       "    }\n",
       "\n",
       "    .dataframe thead th {\n",
       "        text-align: right;\n",
       "    }\n",
       "</style>\n",
       "<table border=\"1\" class=\"dataframe\">\n",
       "  <thead>\n",
       "    <tr style=\"text-align: right;\">\n",
       "      <th></th>\n",
       "      <th>location</th>\n",
       "      <th>total_sqft</th>\n",
       "      <th>bath</th>\n",
       "      <th>balcony</th>\n",
       "      <th>price</th>\n",
       "      <th>BHK</th>\n",
       "    </tr>\n",
       "  </thead>\n",
       "  <tbody>\n",
       "  </tbody>\n",
       "</table>\n",
       "</div>"
      ],
      "text/plain": [
       "Empty DataFrame\n",
       "Columns: [location, total_sqft, bath, balcony, price, BHK]\n",
       "Index: []"
      ]
     },
     "execution_count": 34,
     "metadata": {},
     "output_type": "execute_result"
    }
   ],
   "source": [
    "df[~df.total_sqft.notnull()]"
   ]
  },
  {
   "cell_type": "code",
   "execution_count": 35,
   "metadata": {
    "id": "cZ6jfes66eit",
    "outputId": "710eadad-1747-4d9a-f2bd-342545210d01"
   },
   "outputs": [
    {
     "data": {
      "text/plain": [
       "(12668, 6)"
      ]
     },
     "execution_count": 35,
     "metadata": {},
     "output_type": "execute_result"
    }
   ],
   "source": [
    "df.shape"
   ]
  },
  {
   "cell_type": "markdown",
   "metadata": {},
   "source": [
    "# **Creating a column for price per sq.feet**"
   ]
  },
  {
   "cell_type": "code",
   "execution_count": 36,
   "metadata": {
    "id": "kAAoBvhDavQm",
    "outputId": "8296aee9-87ab-47d6-cfda-fe54b4a0fb07"
   },
   "outputs": [
    {
     "data": {
      "text/html": [
       "<div>\n",
       "<style scoped>\n",
       "    .dataframe tbody tr th:only-of-type {\n",
       "        vertical-align: middle;\n",
       "    }\n",
       "\n",
       "    .dataframe tbody tr th {\n",
       "        vertical-align: top;\n",
       "    }\n",
       "\n",
       "    .dataframe thead th {\n",
       "        text-align: right;\n",
       "    }\n",
       "</style>\n",
       "<table border=\"1\" class=\"dataframe\">\n",
       "  <thead>\n",
       "    <tr style=\"text-align: right;\">\n",
       "      <th></th>\n",
       "      <th>location</th>\n",
       "      <th>total_sqft</th>\n",
       "      <th>bath</th>\n",
       "      <th>balcony</th>\n",
       "      <th>price</th>\n",
       "      <th>BHK</th>\n",
       "      <th>price_per_sqft</th>\n",
       "    </tr>\n",
       "  </thead>\n",
       "  <tbody>\n",
       "    <tr>\n",
       "      <th>0</th>\n",
       "      <td>Electronic City Phase II</td>\n",
       "      <td>1056.0</td>\n",
       "      <td>2.0</td>\n",
       "      <td>1.0</td>\n",
       "      <td>39.07</td>\n",
       "      <td>2</td>\n",
       "      <td>3699.810606</td>\n",
       "    </tr>\n",
       "    <tr>\n",
       "      <th>1</th>\n",
       "      <td>Chikka Tirupathi</td>\n",
       "      <td>2600.0</td>\n",
       "      <td>5.0</td>\n",
       "      <td>3.0</td>\n",
       "      <td>120.00</td>\n",
       "      <td>4</td>\n",
       "      <td>4615.384615</td>\n",
       "    </tr>\n",
       "    <tr>\n",
       "      <th>2</th>\n",
       "      <td>Uttarahalli</td>\n",
       "      <td>1440.0</td>\n",
       "      <td>2.0</td>\n",
       "      <td>3.0</td>\n",
       "      <td>62.00</td>\n",
       "      <td>3</td>\n",
       "      <td>4305.555556</td>\n",
       "    </tr>\n",
       "    <tr>\n",
       "      <th>3</th>\n",
       "      <td>Lingadheeranahalli</td>\n",
       "      <td>1521.0</td>\n",
       "      <td>3.0</td>\n",
       "      <td>1.0</td>\n",
       "      <td>95.00</td>\n",
       "      <td>3</td>\n",
       "      <td>6245.890861</td>\n",
       "    </tr>\n",
       "    <tr>\n",
       "      <th>4</th>\n",
       "      <td>Kothanur</td>\n",
       "      <td>1200.0</td>\n",
       "      <td>2.0</td>\n",
       "      <td>1.0</td>\n",
       "      <td>51.00</td>\n",
       "      <td>2</td>\n",
       "      <td>4250.000000</td>\n",
       "    </tr>\n",
       "  </tbody>\n",
       "</table>\n",
       "</div>"
      ],
      "text/plain": [
       "                   location  total_sqft  bath  balcony   price  BHK  \\\n",
       "0  Electronic City Phase II      1056.0   2.0      1.0   39.07    2   \n",
       "1          Chikka Tirupathi      2600.0   5.0      3.0  120.00    4   \n",
       "2               Uttarahalli      1440.0   2.0      3.0   62.00    3   \n",
       "3        Lingadheeranahalli      1521.0   3.0      1.0   95.00    3   \n",
       "4                  Kothanur      1200.0   2.0      1.0   51.00    2   \n",
       "\n",
       "   price_per_sqft  \n",
       "0     3699.810606  \n",
       "1     4615.384615  \n",
       "2     4305.555556  \n",
       "3     6245.890861  \n",
       "4     4250.000000  "
      ]
     },
     "execution_count": 36,
     "metadata": {},
     "output_type": "execute_result"
    }
   ],
   "source": [
    "df['price_per_sqft']=df['price']*100000/df['total_sqft']\n",
    "df.head()"
   ]
  },
  {
   "cell_type": "code",
   "execution_count": 37,
   "metadata": {
    "id": "WA_DmMxGpc-v",
    "outputId": "4dd95c62-b1db-4554-9a3a-a7732cd065f2"
   },
   "outputs": [
    {
     "data": {
      "text/plain": [
       "(12668, 7)"
      ]
     },
     "execution_count": 37,
     "metadata": {},
     "output_type": "execute_result"
    }
   ],
   "source": [
    "df.shape"
   ]
  },
  {
   "cell_type": "markdown",
   "metadata": {},
   "source": [
    "# **Preprocessing Location column**"
   ]
  },
  {
   "cell_type": "code",
   "execution_count": 38,
   "metadata": {
    "id": "ZN4cwRzpDZd9",
    "outputId": "dc3ba4b3-e0df-48a7-a86a-5e08f645cb1c"
   },
   "outputs": [
    {
     "data": {
      "text/plain": [
       "Whitefield                        514\n",
       "Sarjapur  Road                    372\n",
       "Electronic City                   302\n",
       "Kanakpura Road                    259\n",
       "Thanisandra                       233\n",
       "                                 ... \n",
       "Narayanappa Garden                  1\n",
       "asha township, off hennur road      1\n",
       "Gaurava Nagar                       1\n",
       "Junnasandra                         1\n",
       "Sarvobhogam Nagar                   1\n",
       "Name: location, Length: 1248, dtype: int64"
      ]
     },
     "execution_count": 38,
     "metadata": {},
     "output_type": "execute_result"
    }
   ],
   "source": [
    "df.location=df.location.apply(lambda x: x.strip())\n",
    "loc_stats=df.location.value_counts(ascending=False)\n",
    "loc_stats"
   ]
  },
  {
   "cell_type": "code",
   "execution_count": 39,
   "metadata": {
    "id": "R3bd3FqBHFpW",
    "outputId": "8554bb94-65cf-46bb-85db-1e6160d541fb"
   },
   "outputs": [
    {
     "data": {
      "text/plain": [
       "235"
      ]
     },
     "execution_count": 39,
     "metadata": {},
     "output_type": "execute_result"
    }
   ],
   "source": [
    "len(loc_stats[loc_stats>10])"
   ]
  },
  {
   "cell_type": "code",
   "execution_count": 40,
   "metadata": {
    "id": "Q2mqRfH2IbA_"
   },
   "outputs": [],
   "source": [
    "loc_stats_less_than_10=loc_stats[loc_stats>10]"
   ]
  },
  {
   "cell_type": "code",
   "execution_count": 41,
   "metadata": {
    "id": "NdGCz4J1Hk9M"
   },
   "outputs": [],
   "source": [
    "df.location=df.location.apply(lambda x: 'other' if x in (loc_stats_less_than_10) else x)"
   ]
  },
  {
   "cell_type": "code",
   "execution_count": 42,
   "metadata": {
    "id": "O4APtkdkH6fM",
    "outputId": "45fac3ef-d5a5-475f-8e17-c62837c97cc8"
   },
   "outputs": [
    {
     "data": {
      "text/plain": [
       "18           Ramakrishnappa Layout\n",
       "19              Manayata Tech Park\n",
       "25                 Mangammanapalya\n",
       "42                     Ganga Nagar\n",
       "49                Himagiri Meadows\n",
       "                   ...            \n",
       "13278    Reliaable Tranquil Layout\n",
       "13285                 VHBCS Layout\n",
       "13291               Weavers Colony\n",
       "13292             Udayapur Village\n",
       "13302         Annaiah Reddy Layout\n",
       "Name: location, Length: 2741, dtype: object"
      ]
     },
     "execution_count": 42,
     "metadata": {},
     "output_type": "execute_result"
    }
   ],
   "source": [
    "df.location[df['location']!='other']"
   ]
  },
  {
   "cell_type": "code",
   "execution_count": 43,
   "metadata": {
    "id": "BxEjZ14VIoHc",
    "outputId": "6de23ddb-133b-45b9-e6ff-db875345bf4d"
   },
   "outputs": [
    {
     "data": {
      "text/plain": [
       "array(['other', 'Ramakrishnappa Layout', 'Manayata Tech Park', ...,\n",
       "       '12th cross srinivas nagar banshankari 3rd stage',\n",
       "       'Havanur extension', 'Abshot Layout'], dtype=object)"
      ]
     },
     "execution_count": 43,
     "metadata": {},
     "output_type": "execute_result"
    }
   ],
   "source": [
    "df.location.unique()"
   ]
  },
  {
   "cell_type": "code",
   "execution_count": 44,
   "metadata": {
    "id": "Dt8ymJajJSAE",
    "outputId": "64b87b6a-eb6b-46cf-9fa2-2acf5b088218"
   },
   "outputs": [
    {
     "data": {
      "text/html": [
       "<div>\n",
       "<style scoped>\n",
       "    .dataframe tbody tr th:only-of-type {\n",
       "        vertical-align: middle;\n",
       "    }\n",
       "\n",
       "    .dataframe tbody tr th {\n",
       "        vertical-align: top;\n",
       "    }\n",
       "\n",
       "    .dataframe thead th {\n",
       "        text-align: right;\n",
       "    }\n",
       "</style>\n",
       "<table border=\"1\" class=\"dataframe\">\n",
       "  <thead>\n",
       "    <tr style=\"text-align: right;\">\n",
       "      <th></th>\n",
       "      <th>location</th>\n",
       "      <th>total_sqft</th>\n",
       "      <th>bath</th>\n",
       "      <th>balcony</th>\n",
       "      <th>price</th>\n",
       "      <th>BHK</th>\n",
       "      <th>price_per_sqft</th>\n",
       "    </tr>\n",
       "  </thead>\n",
       "  <tbody>\n",
       "    <tr>\n",
       "      <th>58</th>\n",
       "      <td>other</td>\n",
       "      <td>1407.0</td>\n",
       "      <td>4.0</td>\n",
       "      <td>1.0</td>\n",
       "      <td>150.0</td>\n",
       "      <td>6</td>\n",
       "      <td>10660.980810</td>\n",
       "    </tr>\n",
       "    <tr>\n",
       "      <th>68</th>\n",
       "      <td>other</td>\n",
       "      <td>1350.0</td>\n",
       "      <td>7.0</td>\n",
       "      <td>0.0</td>\n",
       "      <td>85.0</td>\n",
       "      <td>8</td>\n",
       "      <td>6296.296296</td>\n",
       "    </tr>\n",
       "    <tr>\n",
       "      <th>70</th>\n",
       "      <td>Double Road</td>\n",
       "      <td>500.0</td>\n",
       "      <td>3.0</td>\n",
       "      <td>2.0</td>\n",
       "      <td>100.0</td>\n",
       "      <td>3</td>\n",
       "      <td>20000.000000</td>\n",
       "    </tr>\n",
       "    <tr>\n",
       "      <th>78</th>\n",
       "      <td>other</td>\n",
       "      <td>460.0</td>\n",
       "      <td>1.0</td>\n",
       "      <td>0.0</td>\n",
       "      <td>22.0</td>\n",
       "      <td>2</td>\n",
       "      <td>4782.608696</td>\n",
       "    </tr>\n",
       "    <tr>\n",
       "      <th>89</th>\n",
       "      <td>other</td>\n",
       "      <td>710.0</td>\n",
       "      <td>6.0</td>\n",
       "      <td>3.0</td>\n",
       "      <td>160.0</td>\n",
       "      <td>6</td>\n",
       "      <td>22535.211268</td>\n",
       "    </tr>\n",
       "  </tbody>\n",
       "</table>\n",
       "</div>"
      ],
      "text/plain": [
       "       location  total_sqft  bath  balcony  price  BHK  price_per_sqft\n",
       "58        other      1407.0   4.0      1.0  150.0    6    10660.980810\n",
       "68        other      1350.0   7.0      0.0   85.0    8     6296.296296\n",
       "70  Double Road       500.0   3.0      2.0  100.0    3    20000.000000\n",
       "78        other       460.0   1.0      0.0   22.0    2     4782.608696\n",
       "89        other       710.0   6.0      3.0  160.0    6    22535.211268"
      ]
     },
     "execution_count": 44,
     "metadata": {},
     "output_type": "execute_result"
    }
   ],
   "source": [
    "df[df.total_sqft/df.BHK<300].head()"
   ]
  },
  {
   "cell_type": "code",
   "execution_count": 45,
   "metadata": {
    "id": "sdPxIbTvzdvs"
   },
   "outputs": [],
   "source": [
    "df = df[~(df.total_sqft/df.BHK<300)]"
   ]
  },
  {
   "cell_type": "code",
   "execution_count": 46,
   "metadata": {
    "id": "vrANhVBD93TS",
    "outputId": "0e75fe23-23b5-4d08-aada-9deda1cd92d2"
   },
   "outputs": [
    {
     "data": {
      "text/html": [
       "<div>\n",
       "<style scoped>\n",
       "    .dataframe tbody tr th:only-of-type {\n",
       "        vertical-align: middle;\n",
       "    }\n",
       "\n",
       "    .dataframe tbody tr th {\n",
       "        vertical-align: top;\n",
       "    }\n",
       "\n",
       "    .dataframe thead th {\n",
       "        text-align: right;\n",
       "    }\n",
       "</style>\n",
       "<table border=\"1\" class=\"dataframe\">\n",
       "  <thead>\n",
       "    <tr style=\"text-align: right;\">\n",
       "      <th></th>\n",
       "      <th>location</th>\n",
       "      <th>total_sqft</th>\n",
       "      <th>bath</th>\n",
       "      <th>balcony</th>\n",
       "      <th>price</th>\n",
       "      <th>BHK</th>\n",
       "      <th>price_per_sqft</th>\n",
       "    </tr>\n",
       "  </thead>\n",
       "  <tbody>\n",
       "    <tr>\n",
       "      <th>0</th>\n",
       "      <td>other</td>\n",
       "      <td>1056.0</td>\n",
       "      <td>2.0</td>\n",
       "      <td>1.0</td>\n",
       "      <td>39.07</td>\n",
       "      <td>2</td>\n",
       "      <td>3699.810606</td>\n",
       "    </tr>\n",
       "    <tr>\n",
       "      <th>1</th>\n",
       "      <td>other</td>\n",
       "      <td>2600.0</td>\n",
       "      <td>5.0</td>\n",
       "      <td>3.0</td>\n",
       "      <td>120.00</td>\n",
       "      <td>4</td>\n",
       "      <td>4615.384615</td>\n",
       "    </tr>\n",
       "    <tr>\n",
       "      <th>2</th>\n",
       "      <td>other</td>\n",
       "      <td>1440.0</td>\n",
       "      <td>2.0</td>\n",
       "      <td>3.0</td>\n",
       "      <td>62.00</td>\n",
       "      <td>3</td>\n",
       "      <td>4305.555556</td>\n",
       "    </tr>\n",
       "    <tr>\n",
       "      <th>3</th>\n",
       "      <td>other</td>\n",
       "      <td>1521.0</td>\n",
       "      <td>3.0</td>\n",
       "      <td>1.0</td>\n",
       "      <td>95.00</td>\n",
       "      <td>3</td>\n",
       "      <td>6245.890861</td>\n",
       "    </tr>\n",
       "    <tr>\n",
       "      <th>4</th>\n",
       "      <td>other</td>\n",
       "      <td>1200.0</td>\n",
       "      <td>2.0</td>\n",
       "      <td>1.0</td>\n",
       "      <td>51.00</td>\n",
       "      <td>2</td>\n",
       "      <td>4250.000000</td>\n",
       "    </tr>\n",
       "    <tr>\n",
       "      <th>...</th>\n",
       "      <td>...</td>\n",
       "      <td>...</td>\n",
       "      <td>...</td>\n",
       "      <td>...</td>\n",
       "      <td>...</td>\n",
       "      <td>...</td>\n",
       "      <td>...</td>\n",
       "    </tr>\n",
       "    <tr>\n",
       "      <th>13314</th>\n",
       "      <td>other</td>\n",
       "      <td>1715.0</td>\n",
       "      <td>3.0</td>\n",
       "      <td>3.0</td>\n",
       "      <td>112.00</td>\n",
       "      <td>3</td>\n",
       "      <td>6530.612245</td>\n",
       "    </tr>\n",
       "    <tr>\n",
       "      <th>13315</th>\n",
       "      <td>other</td>\n",
       "      <td>3453.0</td>\n",
       "      <td>4.0</td>\n",
       "      <td>0.0</td>\n",
       "      <td>231.00</td>\n",
       "      <td>5</td>\n",
       "      <td>6689.834926</td>\n",
       "    </tr>\n",
       "    <tr>\n",
       "      <th>13317</th>\n",
       "      <td>other</td>\n",
       "      <td>1141.0</td>\n",
       "      <td>2.0</td>\n",
       "      <td>1.0</td>\n",
       "      <td>60.00</td>\n",
       "      <td>2</td>\n",
       "      <td>5258.545136</td>\n",
       "    </tr>\n",
       "    <tr>\n",
       "      <th>13318</th>\n",
       "      <td>other</td>\n",
       "      <td>4689.0</td>\n",
       "      <td>4.0</td>\n",
       "      <td>1.0</td>\n",
       "      <td>488.00</td>\n",
       "      <td>4</td>\n",
       "      <td>10407.336319</td>\n",
       "    </tr>\n",
       "    <tr>\n",
       "      <th>13319</th>\n",
       "      <td>other</td>\n",
       "      <td>550.0</td>\n",
       "      <td>1.0</td>\n",
       "      <td>1.0</td>\n",
       "      <td>17.00</td>\n",
       "      <td>1</td>\n",
       "      <td>3090.909091</td>\n",
       "    </tr>\n",
       "  </tbody>\n",
       "</table>\n",
       "<p>12013 rows × 7 columns</p>\n",
       "</div>"
      ],
      "text/plain": [
       "      location  total_sqft  bath  balcony   price  BHK  price_per_sqft\n",
       "0        other      1056.0   2.0      1.0   39.07    2     3699.810606\n",
       "1        other      2600.0   5.0      3.0  120.00    4     4615.384615\n",
       "2        other      1440.0   2.0      3.0   62.00    3     4305.555556\n",
       "3        other      1521.0   3.0      1.0   95.00    3     6245.890861\n",
       "4        other      1200.0   2.0      1.0   51.00    2     4250.000000\n",
       "...        ...         ...   ...      ...     ...  ...             ...\n",
       "13314    other      1715.0   3.0      3.0  112.00    3     6530.612245\n",
       "13315    other      3453.0   4.0      0.0  231.00    5     6689.834926\n",
       "13317    other      1141.0   2.0      1.0   60.00    2     5258.545136\n",
       "13318    other      4689.0   4.0      1.0  488.00    4    10407.336319\n",
       "13319    other       550.0   1.0      1.0   17.00    1     3090.909091\n",
       "\n",
       "[12013 rows x 7 columns]"
      ]
     },
     "execution_count": 46,
     "metadata": {},
     "output_type": "execute_result"
    }
   ],
   "source": [
    "df"
   ]
  },
  {
   "cell_type": "code",
   "execution_count": 47,
   "metadata": {
    "id": "LxgBpOuuzwf1",
    "outputId": "676dba7e-54b1-462e-92d8-97209169d22f"
   },
   "outputs": [
    {
     "data": {
      "text/plain": [
       "(12013, 7)"
      ]
     },
     "execution_count": 47,
     "metadata": {},
     "output_type": "execute_result"
    }
   ],
   "source": [
    "df.shape"
   ]
  },
  {
   "cell_type": "code",
   "execution_count": 48,
   "metadata": {
    "id": "VY7iwKUpzyE7",
    "outputId": "8d2850a6-86e2-4672-f697-842528b0eab0"
   },
   "outputs": [
    {
     "data": {
      "text/plain": [
       "count     12013.000000\n",
       "mean       6206.082347\n",
       "std        3985.518807\n",
       "min         267.829813\n",
       "25%        4199.363057\n",
       "50%        5252.525253\n",
       "75%        6823.529412\n",
       "max      176470.588235\n",
       "Name: price_per_sqft, dtype: float64"
      ]
     },
     "execution_count": 48,
     "metadata": {},
     "output_type": "execute_result"
    }
   ],
   "source": [
    "df.price_per_sqft.describe()"
   ]
  },
  {
   "cell_type": "markdown",
   "metadata": {},
   "source": [
    "# **Removing outliers**"
   ]
  },
  {
   "cell_type": "code",
   "execution_count": 49,
   "metadata": {},
   "outputs": [
    {
     "data": {
      "image/png": "[encoded data removed]",
      "text/plain": [
       "<Figure size 720x1080 with 4 Axes>"
      ]
     },
     "metadata": {
      "needs_background": "light"
     },
     "output_type": "display_data"
    }
   ],
   "source": [
    "df1=df[['total_sqft','bath','price','BHK']]\n",
    "\n",
    "l = df1.columns.values\n",
    "number_of_columns=4\n",
    "number_of_rows = len(l)-1/number_of_columns\n",
    "plt.figure(figsize=(10,15))\n",
    "for i in range(0,len(l)):\n",
    "    sns.set_style('whitegrid')\n",
    "    plt.subplot(1,4,i+1)\n",
    "    \n",
    "    sns.boxplot(y=df1[l[i]],color='cyan',orient='v')\n",
    "    \n",
    "    plt.tight_layout()"
   ]
  },
  {
   "cell_type": "code",
   "execution_count": 50,
   "metadata": {
    "id": "ifkr6-Kfz3c_",
    "outputId": "14a0745b-5139-48b5-a808-f489ffcddf74"
   },
   "outputs": [
    {
     "data": {
      "text/plain": [
       "(9761, 7)"
      ]
     },
     "execution_count": 50,
     "metadata": {},
     "output_type": "execute_result"
    }
   ],
   "source": [
    "def remove_pps_outliers(df):\n",
    "    df_out = pd.DataFrame()\n",
    "    for key, subdf in df.groupby('location'):\n",
    "        m = np.mean(subdf.price_per_sqft)\n",
    "        st = np.std(subdf.price_per_sqft)\n",
    "        reduced_df = subdf[(subdf.price_per_sqft>(m-st)) & (subdf.price_per_sqft<=(m+st))]\n",
    "        df_out = pd.concat([df_out,reduced_df],ignore_index=True)\n",
    "    return df_out\n",
    "    \n",
    "df = remove_pps_outliers(df)\n",
    "df.shape"
   ]
  },
  {
   "cell_type": "code",
   "execution_count": 51,
   "metadata": {
    "id": "XZjUgbR60KhI",
    "outputId": "a22b0546-f58a-4baa-f594-7802eb60c086"
   },
   "outputs": [
    {
     "data": {
      "text/plain": [
       "(5549, 7)"
      ]
     },
     "execution_count": 51,
     "metadata": {},
     "output_type": "execute_result"
    }
   ],
   "source": [
    "def remove_bhk_outliers(df):\n",
    "    exclude_indices = np.array([])\n",
    "    for location, location_df in df.groupby('location'):\n",
    "        bhk_stats = {}\n",
    "        for bhk, bhk_df in location_df.groupby('BHK'):\n",
    "            bhk_stats[bhk] = {\n",
    "                'mean': np.mean(bhk_df.price_per_sqft),\n",
    "                'std': np.std(bhk_df.price_per_sqft),\n",
    "                'count': bhk_df.shape[0]\n",
    "            }\n",
    "        for bhk, bhk_df in location_df.groupby('BHK'):\n",
    "            stats = bhk_stats.get(bhk-1)\n",
    "            if stats and stats['count']>5:\n",
    "                exclude_indices = np.append(exclude_indices, bhk_df[bhk_df.price_per_sqft<(stats['mean'])].index.values)\n",
    "    return df.drop(exclude_indices,axis='index')\n",
    "\n",
    "df = remove_bhk_outliers(df)\n",
    "df.shape"
   ]
  },
  {
   "cell_type": "code",
   "execution_count": 52,
   "metadata": {
    "id": "nS219eNo7Erh",
    "outputId": "a3c0c117-6cf2-4fc4-d05a-979fe7d4451f"
   },
   "outputs": [
    {
     "data": {
      "text/plain": [
       "Text(0, 0.5, 'Count')"
      ]
     },
     "execution_count": 52,
     "metadata": {},
     "output_type": "execute_result"
    },
    {
     "data": {
      "image/png": "[encoded data removed]",
      "text/plain": [
       "<Figure size 576x432 with 1 Axes>"
      ]
     },
     "metadata": {},
     "output_type": "display_data"
    }
   ],
   "source": [
    "\n",
    "\n",
    "plt.subplots(figsize=(8,6))\n",
    "plt.hist(df.price_per_sqft,rwidth=0.8)\n",
    "plt.xlabel(\"Price Per Square Feet\")\n",
    "plt.ylabel(\"Count\")"
   ]
  },
  {
   "cell_type": "code",
   "execution_count": 53,
   "metadata": {
    "id": "1BEA7_-S7PEO"
   },
   "outputs": [],
   "source": [
    "df = df[df.bath<df.BHK+2]"
   ]
  },
  {
   "cell_type": "code",
   "execution_count": 54,
   "metadata": {
    "id": "N4WRyijzTIpY",
    "outputId": "5e4042bf-a7aa-418b-9501-5fcd0bb4d6cc"
   },
   "outputs": [
    {
     "data": {
      "text/plain": [
       "(5490, 7)"
      ]
     },
     "execution_count": 54,
     "metadata": {},
     "output_type": "execute_result"
    }
   ],
   "source": [
    "df.shape"
   ]
  },
  {
   "cell_type": "code",
   "execution_count": 55,
   "metadata": {
    "id": "gwXw6DoJTKWy",
    "outputId": "6c5a8cd7-6677-4369-aa7d-42fbb494eca5"
   },
   "outputs": [
    {
     "data": {
      "text/plain": [
       "Text(0, 0.5, 'No. of houses')"
      ]
     },
     "execution_count": 55,
     "metadata": {},
     "output_type": "execute_result"
    },
    {
     "data": {
      "image/png": "[encoded data removed]",
      "text/plain": [
       "<Figure size 432x288 with 1 Axes>"
      ]
     },
     "metadata": {},
     "output_type": "display_data"
    }
   ],
   "source": [
    "plt.hist(df.bath,bins=20)\n",
    "plt.xlabel('No. of bathrooms in a house')\n",
    "plt.ylabel('No. of houses')\n"
   ]
  },
  {
   "cell_type": "code",
   "execution_count": 56,
   "metadata": {},
   "outputs": [
    {
     "data": {
      "image/png": "[encoded data removed]",
      "text/plain": [
       "<Figure size 1440x720 with 4 Axes>"
      ]
     },
     "metadata": {},
     "output_type": "display_data"
    }
   ],
   "source": [
    "plt.figure(figsize=(20,10))\n",
    "for i in range(0,len(l)):\n",
    "    plt.subplot(2,2,i+1)\n",
    "    sns.histplot(df[l[i]],kde=True) "
   ]
  },
  {
   "cell_type": "markdown",
   "metadata": {
    "id": "2OevS2NLWQuc"
   },
   "source": [
    "# **Converting 'Object' values of Location into Numerical **"
   ]
  },
  {
   "cell_type": "code",
   "execution_count": 57,
   "metadata": {
    "id": "IATgqw38TO7H",
    "outputId": "fcd135c6-def3-41e6-9cbf-52582583c9a0"
   },
   "outputs": [
    {
     "data": {
      "text/html": [
       "<div>\n",
       "<style scoped>\n",
       "    .dataframe tbody tr th:only-of-type {\n",
       "        vertical-align: middle;\n",
       "    }\n",
       "\n",
       "    .dataframe tbody tr th {\n",
       "        vertical-align: top;\n",
       "    }\n",
       "\n",
       "    .dataframe thead th {\n",
       "        text-align: right;\n",
       "    }\n",
       "</style>\n",
       "<table border=\"1\" class=\"dataframe\">\n",
       "  <thead>\n",
       "    <tr style=\"text-align: right;\">\n",
       "      <th></th>\n",
       "      <th>1st Block BEL Layout</th>\n",
       "      <th>1st Block HBR Layout</th>\n",
       "      <th>1st Block HRBR Layout</th>\n",
       "      <th>1st Block Koramangala</th>\n",
       "      <th>1st Stage Indira Nagar</th>\n",
       "      <th>2nd Block Hrbr Layout</th>\n",
       "      <th>2nd Block Jayanagar</th>\n",
       "      <th>2nd Phase JP Nagar</th>\n",
       "      <th>2nd Stage Arekere Mico Layout</th>\n",
       "      <th>3rd Block Banashankari</th>\n",
       "      <th>...</th>\n",
       "      <th>Volagerekallahalli</th>\n",
       "      <th>Whitefield,</th>\n",
       "      <th>Wilson Garden</th>\n",
       "      <th>Yarandahalli</th>\n",
       "      <th>Yemlur</th>\n",
       "      <th>frazertown</th>\n",
       "      <th>manyata park</th>\n",
       "      <th>other</th>\n",
       "      <th>south</th>\n",
       "      <th>tc.palya</th>\n",
       "    </tr>\n",
       "  </thead>\n",
       "  <tbody>\n",
       "    <tr>\n",
       "      <th>0</th>\n",
       "      <td>1</td>\n",
       "      <td>0</td>\n",
       "      <td>0</td>\n",
       "      <td>0</td>\n",
       "      <td>0</td>\n",
       "      <td>0</td>\n",
       "      <td>0</td>\n",
       "      <td>0</td>\n",
       "      <td>0</td>\n",
       "      <td>0</td>\n",
       "      <td>...</td>\n",
       "      <td>0</td>\n",
       "      <td>0</td>\n",
       "      <td>0</td>\n",
       "      <td>0</td>\n",
       "      <td>0</td>\n",
       "      <td>0</td>\n",
       "      <td>0</td>\n",
       "      <td>0</td>\n",
       "      <td>0</td>\n",
       "      <td>0</td>\n",
       "    </tr>\n",
       "    <tr>\n",
       "      <th>1</th>\n",
       "      <td>0</td>\n",
       "      <td>1</td>\n",
       "      <td>0</td>\n",
       "      <td>0</td>\n",
       "      <td>0</td>\n",
       "      <td>0</td>\n",
       "      <td>0</td>\n",
       "      <td>0</td>\n",
       "      <td>0</td>\n",
       "      <td>0</td>\n",
       "      <td>...</td>\n",
       "      <td>0</td>\n",
       "      <td>0</td>\n",
       "      <td>0</td>\n",
       "      <td>0</td>\n",
       "      <td>0</td>\n",
       "      <td>0</td>\n",
       "      <td>0</td>\n",
       "      <td>0</td>\n",
       "      <td>0</td>\n",
       "      <td>0</td>\n",
       "    </tr>\n",
       "    <tr>\n",
       "      <th>2</th>\n",
       "      <td>0</td>\n",
       "      <td>1</td>\n",
       "      <td>0</td>\n",
       "      <td>0</td>\n",
       "      <td>0</td>\n",
       "      <td>0</td>\n",
       "      <td>0</td>\n",
       "      <td>0</td>\n",
       "      <td>0</td>\n",
       "      <td>0</td>\n",
       "      <td>...</td>\n",
       "      <td>0</td>\n",
       "      <td>0</td>\n",
       "      <td>0</td>\n",
       "      <td>0</td>\n",
       "      <td>0</td>\n",
       "      <td>0</td>\n",
       "      <td>0</td>\n",
       "      <td>0</td>\n",
       "      <td>0</td>\n",
       "      <td>0</td>\n",
       "    </tr>\n",
       "    <tr>\n",
       "      <th>3</th>\n",
       "      <td>0</td>\n",
       "      <td>0</td>\n",
       "      <td>1</td>\n",
       "      <td>0</td>\n",
       "      <td>0</td>\n",
       "      <td>0</td>\n",
       "      <td>0</td>\n",
       "      <td>0</td>\n",
       "      <td>0</td>\n",
       "      <td>0</td>\n",
       "      <td>...</td>\n",
       "      <td>0</td>\n",
       "      <td>0</td>\n",
       "      <td>0</td>\n",
       "      <td>0</td>\n",
       "      <td>0</td>\n",
       "      <td>0</td>\n",
       "      <td>0</td>\n",
       "      <td>0</td>\n",
       "      <td>0</td>\n",
       "      <td>0</td>\n",
       "    </tr>\n",
       "    <tr>\n",
       "      <th>4</th>\n",
       "      <td>0</td>\n",
       "      <td>0</td>\n",
       "      <td>0</td>\n",
       "      <td>1</td>\n",
       "      <td>0</td>\n",
       "      <td>0</td>\n",
       "      <td>0</td>\n",
       "      <td>0</td>\n",
       "      <td>0</td>\n",
       "      <td>0</td>\n",
       "      <td>...</td>\n",
       "      <td>0</td>\n",
       "      <td>0</td>\n",
       "      <td>0</td>\n",
       "      <td>0</td>\n",
       "      <td>0</td>\n",
       "      <td>0</td>\n",
       "      <td>0</td>\n",
       "      <td>0</td>\n",
       "      <td>0</td>\n",
       "      <td>0</td>\n",
       "    </tr>\n",
       "    <tr>\n",
       "      <th>...</th>\n",
       "      <td>...</td>\n",
       "      <td>...</td>\n",
       "      <td>...</td>\n",
       "      <td>...</td>\n",
       "      <td>...</td>\n",
       "      <td>...</td>\n",
       "      <td>...</td>\n",
       "      <td>...</td>\n",
       "      <td>...</td>\n",
       "      <td>...</td>\n",
       "      <td>...</td>\n",
       "      <td>...</td>\n",
       "      <td>...</td>\n",
       "      <td>...</td>\n",
       "      <td>...</td>\n",
       "      <td>...</td>\n",
       "      <td>...</td>\n",
       "      <td>...</td>\n",
       "      <td>...</td>\n",
       "      <td>...</td>\n",
       "      <td>...</td>\n",
       "    </tr>\n",
       "    <tr>\n",
       "      <th>9756</th>\n",
       "      <td>0</td>\n",
       "      <td>0</td>\n",
       "      <td>0</td>\n",
       "      <td>0</td>\n",
       "      <td>0</td>\n",
       "      <td>0</td>\n",
       "      <td>0</td>\n",
       "      <td>0</td>\n",
       "      <td>0</td>\n",
       "      <td>0</td>\n",
       "      <td>...</td>\n",
       "      <td>0</td>\n",
       "      <td>0</td>\n",
       "      <td>0</td>\n",
       "      <td>0</td>\n",
       "      <td>0</td>\n",
       "      <td>0</td>\n",
       "      <td>0</td>\n",
       "      <td>1</td>\n",
       "      <td>0</td>\n",
       "      <td>0</td>\n",
       "    </tr>\n",
       "    <tr>\n",
       "      <th>9757</th>\n",
       "      <td>0</td>\n",
       "      <td>0</td>\n",
       "      <td>0</td>\n",
       "      <td>0</td>\n",
       "      <td>0</td>\n",
       "      <td>0</td>\n",
       "      <td>0</td>\n",
       "      <td>0</td>\n",
       "      <td>0</td>\n",
       "      <td>0</td>\n",
       "      <td>...</td>\n",
       "      <td>0</td>\n",
       "      <td>0</td>\n",
       "      <td>0</td>\n",
       "      <td>0</td>\n",
       "      <td>0</td>\n",
       "      <td>0</td>\n",
       "      <td>0</td>\n",
       "      <td>0</td>\n",
       "      <td>1</td>\n",
       "      <td>0</td>\n",
       "    </tr>\n",
       "    <tr>\n",
       "      <th>9758</th>\n",
       "      <td>0</td>\n",
       "      <td>0</td>\n",
       "      <td>0</td>\n",
       "      <td>0</td>\n",
       "      <td>0</td>\n",
       "      <td>0</td>\n",
       "      <td>0</td>\n",
       "      <td>0</td>\n",
       "      <td>0</td>\n",
       "      <td>0</td>\n",
       "      <td>...</td>\n",
       "      <td>0</td>\n",
       "      <td>0</td>\n",
       "      <td>0</td>\n",
       "      <td>0</td>\n",
       "      <td>0</td>\n",
       "      <td>0</td>\n",
       "      <td>0</td>\n",
       "      <td>0</td>\n",
       "      <td>0</td>\n",
       "      <td>1</td>\n",
       "    </tr>\n",
       "    <tr>\n",
       "      <th>9759</th>\n",
       "      <td>0</td>\n",
       "      <td>0</td>\n",
       "      <td>0</td>\n",
       "      <td>0</td>\n",
       "      <td>0</td>\n",
       "      <td>0</td>\n",
       "      <td>0</td>\n",
       "      <td>0</td>\n",
       "      <td>0</td>\n",
       "      <td>0</td>\n",
       "      <td>...</td>\n",
       "      <td>0</td>\n",
       "      <td>0</td>\n",
       "      <td>0</td>\n",
       "      <td>0</td>\n",
       "      <td>0</td>\n",
       "      <td>0</td>\n",
       "      <td>0</td>\n",
       "      <td>0</td>\n",
       "      <td>0</td>\n",
       "      <td>1</td>\n",
       "    </tr>\n",
       "    <tr>\n",
       "      <th>9760</th>\n",
       "      <td>0</td>\n",
       "      <td>0</td>\n",
       "      <td>0</td>\n",
       "      <td>0</td>\n",
       "      <td>0</td>\n",
       "      <td>0</td>\n",
       "      <td>0</td>\n",
       "      <td>0</td>\n",
       "      <td>0</td>\n",
       "      <td>0</td>\n",
       "      <td>...</td>\n",
       "      <td>0</td>\n",
       "      <td>0</td>\n",
       "      <td>0</td>\n",
       "      <td>0</td>\n",
       "      <td>0</td>\n",
       "      <td>0</td>\n",
       "      <td>0</td>\n",
       "      <td>0</td>\n",
       "      <td>0</td>\n",
       "      <td>1</td>\n",
       "    </tr>\n",
       "  </tbody>\n",
       "</table>\n",
       "<p>5490 rows × 506 columns</p>\n",
       "</div>"
      ],
      "text/plain": [
       "      1st Block BEL Layout  1st Block HBR Layout  1st Block HRBR Layout  \\\n",
       "0                        1                     0                      0   \n",
       "1                        0                     1                      0   \n",
       "2                        0                     1                      0   \n",
       "3                        0                     0                      1   \n",
       "4                        0                     0                      0   \n",
       "...                    ...                   ...                    ...   \n",
       "9756                     0                     0                      0   \n",
       "9757                     0                     0                      0   \n",
       "9758                     0                     0                      0   \n",
       "9759                     0                     0                      0   \n",
       "9760                     0                     0                      0   \n",
       "\n",
       "      1st Block Koramangala  1st Stage Indira Nagar  2nd Block Hrbr Layout  \\\n",
       "0                         0                       0                      0   \n",
       "1                         0                       0                      0   \n",
       "2                         0                       0                      0   \n",
       "3                         0                       0                      0   \n",
       "4                         1                       0                      0   \n",
       "...                     ...                     ...                    ...   \n",
       "9756                      0                       0                      0   \n",
       "9757                      0                       0                      0   \n",
       "9758                      0                       0                      0   \n",
       "9759                      0                       0                      0   \n",
       "9760                      0                       0                      0   \n",
       "\n",
       "      2nd Block Jayanagar  2nd Phase JP Nagar  2nd Stage Arekere Mico Layout  \\\n",
       "0                       0                   0                              0   \n",
       "1                       0                   0                              0   \n",
       "2                       0                   0                              0   \n",
       "3                       0                   0                              0   \n",
       "4                       0                   0                              0   \n",
       "...                   ...                 ...                            ...   \n",
       "9756                    0                   0                              0   \n",
       "9757                    0                   0                              0   \n",
       "9758                    0                   0                              0   \n",
       "9759                    0                   0                              0   \n",
       "9760                    0                   0                              0   \n",
       "\n",
       "      3rd Block Banashankari  ...  Volagerekallahalli  Whitefield,  \\\n",
       "0                          0  ...                   0            0   \n",
       "1                          0  ...                   0            0   \n",
       "2                          0  ...                   0            0   \n",
       "3                          0  ...                   0            0   \n",
       "4                          0  ...                   0            0   \n",
       "...                      ...  ...                 ...          ...   \n",
       "9756                       0  ...                   0            0   \n",
       "9757                       0  ...                   0            0   \n",
       "9758                       0  ...                   0            0   \n",
       "9759                       0  ...                   0            0   \n",
       "9760                       0  ...                   0            0   \n",
       "\n",
       "      Wilson Garden  Yarandahalli  Yemlur  frazertown  manyata park  other  \\\n",
       "0                 0             0       0           0             0      0   \n",
       "1                 0             0       0           0             0      0   \n",
       "2                 0             0       0           0             0      0   \n",
       "3                 0             0       0           0             0      0   \n",
       "4                 0             0       0           0             0      0   \n",
       "...             ...           ...     ...         ...           ...    ...   \n",
       "9756              0             0       0           0             0      1   \n",
       "9757              0             0       0           0             0      0   \n",
       "9758              0             0       0           0             0      0   \n",
       "9759              0             0       0           0             0      0   \n",
       "9760              0             0       0           0             0      0   \n",
       "\n",
       "      south  tc.palya  \n",
       "0         0         0  \n",
       "1         0         0  \n",
       "2         0         0  \n",
       "3         0         0  \n",
       "4         0         0  \n",
       "...     ...       ...  \n",
       "9756      0         0  \n",
       "9757      1         0  \n",
       "9758      0         1  \n",
       "9759      0         1  \n",
       "9760      0         1  \n",
       "\n",
       "[5490 rows x 506 columns]"
      ]
     },
     "execution_count": 57,
     "metadata": {},
     "output_type": "execute_result"
    }
   ],
   "source": [
    "dummies = pd.get_dummies(df.location)\n",
    "dummies"
   ]
  },
  {
   "cell_type": "code",
   "execution_count": 58,
   "metadata": {
    "id": "kyn7mbMOTtcq"
   },
   "outputs": [],
   "source": [
    "df=pd.concat([df,dummies.drop('other',axis='columns')],axis='columns')"
   ]
  },
  {
   "cell_type": "code",
   "execution_count": 59,
   "metadata": {
    "id": "U94QP5e4T5Xk",
    "outputId": "e7fead8f-8c18-4112-b39a-4240e6dba88c"
   },
   "outputs": [
    {
     "data": {
      "text/html": [
       "<div>\n",
       "<style scoped>\n",
       "    .dataframe tbody tr th:only-of-type {\n",
       "        vertical-align: middle;\n",
       "    }\n",
       "\n",
       "    .dataframe tbody tr th {\n",
       "        vertical-align: top;\n",
       "    }\n",
       "\n",
       "    .dataframe thead th {\n",
       "        text-align: right;\n",
       "    }\n",
       "</style>\n",
       "<table border=\"1\" class=\"dataframe\">\n",
       "  <thead>\n",
       "    <tr style=\"text-align: right;\">\n",
       "      <th></th>\n",
       "      <th>location</th>\n",
       "      <th>total_sqft</th>\n",
       "      <th>bath</th>\n",
       "      <th>balcony</th>\n",
       "      <th>price</th>\n",
       "      <th>BHK</th>\n",
       "      <th>price_per_sqft</th>\n",
       "      <th>1st Block BEL Layout</th>\n",
       "      <th>1st Block HBR Layout</th>\n",
       "      <th>1st Block HRBR Layout</th>\n",
       "      <th>...</th>\n",
       "      <th>Vivek Nagar</th>\n",
       "      <th>Volagerekallahalli</th>\n",
       "      <th>Whitefield,</th>\n",
       "      <th>Wilson Garden</th>\n",
       "      <th>Yarandahalli</th>\n",
       "      <th>Yemlur</th>\n",
       "      <th>frazertown</th>\n",
       "      <th>manyata park</th>\n",
       "      <th>south</th>\n",
       "      <th>tc.palya</th>\n",
       "    </tr>\n",
       "  </thead>\n",
       "  <tbody>\n",
       "    <tr>\n",
       "      <th>0</th>\n",
       "      <td>1st Block BEL Layout</td>\n",
       "      <td>1540.0</td>\n",
       "      <td>3.0</td>\n",
       "      <td>2.0</td>\n",
       "      <td>85.0</td>\n",
       "      <td>3</td>\n",
       "      <td>5519.480519</td>\n",
       "      <td>1</td>\n",
       "      <td>0</td>\n",
       "      <td>0</td>\n",
       "      <td>...</td>\n",
       "      <td>0</td>\n",
       "      <td>0</td>\n",
       "      <td>0</td>\n",
       "      <td>0</td>\n",
       "      <td>0</td>\n",
       "      <td>0</td>\n",
       "      <td>0</td>\n",
       "      <td>0</td>\n",
       "      <td>0</td>\n",
       "      <td>0</td>\n",
       "    </tr>\n",
       "    <tr>\n",
       "      <th>1</th>\n",
       "      <td>1st Block HBR Layout</td>\n",
       "      <td>600.0</td>\n",
       "      <td>1.0</td>\n",
       "      <td>0.0</td>\n",
       "      <td>45.0</td>\n",
       "      <td>1</td>\n",
       "      <td>7500.000000</td>\n",
       "      <td>0</td>\n",
       "      <td>1</td>\n",
       "      <td>0</td>\n",
       "      <td>...</td>\n",
       "      <td>0</td>\n",
       "      <td>0</td>\n",
       "      <td>0</td>\n",
       "      <td>0</td>\n",
       "      <td>0</td>\n",
       "      <td>0</td>\n",
       "      <td>0</td>\n",
       "      <td>0</td>\n",
       "      <td>0</td>\n",
       "      <td>0</td>\n",
       "    </tr>\n",
       "    <tr>\n",
       "      <th>2</th>\n",
       "      <td>1st Block HBR Layout</td>\n",
       "      <td>3150.0</td>\n",
       "      <td>4.0</td>\n",
       "      <td>2.0</td>\n",
       "      <td>150.0</td>\n",
       "      <td>4</td>\n",
       "      <td>4761.904762</td>\n",
       "      <td>0</td>\n",
       "      <td>1</td>\n",
       "      <td>0</td>\n",
       "      <td>...</td>\n",
       "      <td>0</td>\n",
       "      <td>0</td>\n",
       "      <td>0</td>\n",
       "      <td>0</td>\n",
       "      <td>0</td>\n",
       "      <td>0</td>\n",
       "      <td>0</td>\n",
       "      <td>0</td>\n",
       "      <td>0</td>\n",
       "      <td>0</td>\n",
       "    </tr>\n",
       "    <tr>\n",
       "      <th>3</th>\n",
       "      <td>1st Block HRBR Layout</td>\n",
       "      <td>1250.0</td>\n",
       "      <td>2.0</td>\n",
       "      <td>1.0</td>\n",
       "      <td>67.0</td>\n",
       "      <td>2</td>\n",
       "      <td>5360.000000</td>\n",
       "      <td>0</td>\n",
       "      <td>0</td>\n",
       "      <td>1</td>\n",
       "      <td>...</td>\n",
       "      <td>0</td>\n",
       "      <td>0</td>\n",
       "      <td>0</td>\n",
       "      <td>0</td>\n",
       "      <td>0</td>\n",
       "      <td>0</td>\n",
       "      <td>0</td>\n",
       "      <td>0</td>\n",
       "      <td>0</td>\n",
       "      <td>0</td>\n",
       "    </tr>\n",
       "    <tr>\n",
       "      <th>4</th>\n",
       "      <td>1st Block Koramangala</td>\n",
       "      <td>1415.0</td>\n",
       "      <td>2.0</td>\n",
       "      <td>3.0</td>\n",
       "      <td>110.0</td>\n",
       "      <td>2</td>\n",
       "      <td>7773.851590</td>\n",
       "      <td>0</td>\n",
       "      <td>0</td>\n",
       "      <td>0</td>\n",
       "      <td>...</td>\n",
       "      <td>0</td>\n",
       "      <td>0</td>\n",
       "      <td>0</td>\n",
       "      <td>0</td>\n",
       "      <td>0</td>\n",
       "      <td>0</td>\n",
       "      <td>0</td>\n",
       "      <td>0</td>\n",
       "      <td>0</td>\n",
       "      <td>0</td>\n",
       "    </tr>\n",
       "  </tbody>\n",
       "</table>\n",
       "<p>5 rows × 512 columns</p>\n",
       "</div>"
      ],
      "text/plain": [
       "                location  total_sqft  bath  balcony  price  BHK  \\\n",
       "0   1st Block BEL Layout      1540.0   3.0      2.0   85.0    3   \n",
       "1   1st Block HBR Layout       600.0   1.0      0.0   45.0    1   \n",
       "2   1st Block HBR Layout      3150.0   4.0      2.0  150.0    4   \n",
       "3  1st Block HRBR Layout      1250.0   2.0      1.0   67.0    2   \n",
       "4  1st Block Koramangala      1415.0   2.0      3.0  110.0    2   \n",
       "\n",
       "   price_per_sqft  1st Block BEL Layout  1st Block HBR Layout  \\\n",
       "0     5519.480519                     1                     0   \n",
       "1     7500.000000                     0                     1   \n",
       "2     4761.904762                     0                     1   \n",
       "3     5360.000000                     0                     0   \n",
       "4     7773.851590                     0                     0   \n",
       "\n",
       "   1st Block HRBR Layout  ...  Vivek Nagar  Volagerekallahalli  Whitefield,  \\\n",
       "0                      0  ...            0                   0            0   \n",
       "1                      0  ...            0                   0            0   \n",
       "2                      0  ...            0                   0            0   \n",
       "3                      1  ...            0                   0            0   \n",
       "4                      0  ...            0                   0            0   \n",
       "\n",
       "   Wilson Garden  Yarandahalli  Yemlur  frazertown  manyata park  south  \\\n",
       "0              0             0       0           0             0      0   \n",
       "1              0             0       0           0             0      0   \n",
       "2              0             0       0           0             0      0   \n",
       "3              0             0       0           0             0      0   \n",
       "4              0             0       0           0             0      0   \n",
       "\n",
       "   tc.palya  \n",
       "0         0  \n",
       "1         0  \n",
       "2         0  \n",
       "3         0  \n",
       "4         0  \n",
       "\n",
       "[5 rows x 512 columns]"
      ]
     },
     "execution_count": 59,
     "metadata": {},
     "output_type": "execute_result"
    }
   ],
   "source": [
    "df.head()"
   ]
  },
  {
   "cell_type": "code",
   "execution_count": 60,
   "metadata": {
    "id": "SJClgp1mBqHu"
   },
   "outputs": [],
   "source": [
    "df=df.drop('location',axis='columns')"
   ]
  },
  {
   "cell_type": "code",
   "execution_count": 61,
   "metadata": {
    "id": "bxPVj4JLBLsO",
    "outputId": "3fe4cbb6-ba9e-47c4-b173-6c373d2d64fb"
   },
   "outputs": [
    {
     "data": {
      "text/html": [
       "<div>\n",
       "<style scoped>\n",
       "    .dataframe tbody tr th:only-of-type {\n",
       "        vertical-align: middle;\n",
       "    }\n",
       "\n",
       "    .dataframe tbody tr th {\n",
       "        vertical-align: top;\n",
       "    }\n",
       "\n",
       "    .dataframe thead th {\n",
       "        text-align: right;\n",
       "    }\n",
       "</style>\n",
       "<table border=\"1\" class=\"dataframe\">\n",
       "  <thead>\n",
       "    <tr style=\"text-align: right;\">\n",
       "      <th></th>\n",
       "      <th>total_sqft</th>\n",
       "      <th>bath</th>\n",
       "      <th>balcony</th>\n",
       "      <th>price</th>\n",
       "      <th>BHK</th>\n",
       "      <th>price_per_sqft</th>\n",
       "      <th>1st Block BEL Layout</th>\n",
       "      <th>1st Block HBR Layout</th>\n",
       "      <th>1st Block HRBR Layout</th>\n",
       "      <th>1st Block Koramangala</th>\n",
       "      <th>...</th>\n",
       "      <th>Vivek Nagar</th>\n",
       "      <th>Volagerekallahalli</th>\n",
       "      <th>Whitefield,</th>\n",
       "      <th>Wilson Garden</th>\n",
       "      <th>Yarandahalli</th>\n",
       "      <th>Yemlur</th>\n",
       "      <th>frazertown</th>\n",
       "      <th>manyata park</th>\n",
       "      <th>south</th>\n",
       "      <th>tc.palya</th>\n",
       "    </tr>\n",
       "  </thead>\n",
       "  <tbody>\n",
       "    <tr>\n",
       "      <th>0</th>\n",
       "      <td>1540.0</td>\n",
       "      <td>3.0</td>\n",
       "      <td>2.0</td>\n",
       "      <td>85.0</td>\n",
       "      <td>3</td>\n",
       "      <td>5519.480519</td>\n",
       "      <td>1</td>\n",
       "      <td>0</td>\n",
       "      <td>0</td>\n",
       "      <td>0</td>\n",
       "      <td>...</td>\n",
       "      <td>0</td>\n",
       "      <td>0</td>\n",
       "      <td>0</td>\n",
       "      <td>0</td>\n",
       "      <td>0</td>\n",
       "      <td>0</td>\n",
       "      <td>0</td>\n",
       "      <td>0</td>\n",
       "      <td>0</td>\n",
       "      <td>0</td>\n",
       "    </tr>\n",
       "    <tr>\n",
       "      <th>1</th>\n",
       "      <td>600.0</td>\n",
       "      <td>1.0</td>\n",
       "      <td>0.0</td>\n",
       "      <td>45.0</td>\n",
       "      <td>1</td>\n",
       "      <td>7500.000000</td>\n",
       "      <td>0</td>\n",
       "      <td>1</td>\n",
       "      <td>0</td>\n",
       "      <td>0</td>\n",
       "      <td>...</td>\n",
       "      <td>0</td>\n",
       "      <td>0</td>\n",
       "      <td>0</td>\n",
       "      <td>0</td>\n",
       "      <td>0</td>\n",
       "      <td>0</td>\n",
       "      <td>0</td>\n",
       "      <td>0</td>\n",
       "      <td>0</td>\n",
       "      <td>0</td>\n",
       "    </tr>\n",
       "    <tr>\n",
       "      <th>2</th>\n",
       "      <td>3150.0</td>\n",
       "      <td>4.0</td>\n",
       "      <td>2.0</td>\n",
       "      <td>150.0</td>\n",
       "      <td>4</td>\n",
       "      <td>4761.904762</td>\n",
       "      <td>0</td>\n",
       "      <td>1</td>\n",
       "      <td>0</td>\n",
       "      <td>0</td>\n",
       "      <td>...</td>\n",
       "      <td>0</td>\n",
       "      <td>0</td>\n",
       "      <td>0</td>\n",
       "      <td>0</td>\n",
       "      <td>0</td>\n",
       "      <td>0</td>\n",
       "      <td>0</td>\n",
       "      <td>0</td>\n",
       "      <td>0</td>\n",
       "      <td>0</td>\n",
       "    </tr>\n",
       "    <tr>\n",
       "      <th>3</th>\n",
       "      <td>1250.0</td>\n",
       "      <td>2.0</td>\n",
       "      <td>1.0</td>\n",
       "      <td>67.0</td>\n",
       "      <td>2</td>\n",
       "      <td>5360.000000</td>\n",
       "      <td>0</td>\n",
       "      <td>0</td>\n",
       "      <td>1</td>\n",
       "      <td>0</td>\n",
       "      <td>...</td>\n",
       "      <td>0</td>\n",
       "      <td>0</td>\n",
       "      <td>0</td>\n",
       "      <td>0</td>\n",
       "      <td>0</td>\n",
       "      <td>0</td>\n",
       "      <td>0</td>\n",
       "      <td>0</td>\n",
       "      <td>0</td>\n",
       "      <td>0</td>\n",
       "    </tr>\n",
       "    <tr>\n",
       "      <th>4</th>\n",
       "      <td>1415.0</td>\n",
       "      <td>2.0</td>\n",
       "      <td>3.0</td>\n",
       "      <td>110.0</td>\n",
       "      <td>2</td>\n",
       "      <td>7773.851590</td>\n",
       "      <td>0</td>\n",
       "      <td>0</td>\n",
       "      <td>0</td>\n",
       "      <td>1</td>\n",
       "      <td>...</td>\n",
       "      <td>0</td>\n",
       "      <td>0</td>\n",
       "      <td>0</td>\n",
       "      <td>0</td>\n",
       "      <td>0</td>\n",
       "      <td>0</td>\n",
       "      <td>0</td>\n",
       "      <td>0</td>\n",
       "      <td>0</td>\n",
       "      <td>0</td>\n",
       "    </tr>\n",
       "  </tbody>\n",
       "</table>\n",
       "<p>5 rows × 511 columns</p>\n",
       "</div>"
      ],
      "text/plain": [
       "   total_sqft  bath  balcony  price  BHK  price_per_sqft  \\\n",
       "0      1540.0   3.0      2.0   85.0    3     5519.480519   \n",
       "1       600.0   1.0      0.0   45.0    1     7500.000000   \n",
       "2      3150.0   4.0      2.0  150.0    4     4761.904762   \n",
       "3      1250.0   2.0      1.0   67.0    2     5360.000000   \n",
       "4      1415.0   2.0      3.0  110.0    2     7773.851590   \n",
       "\n",
       "   1st Block BEL Layout  1st Block HBR Layout  1st Block HRBR Layout  \\\n",
       "0                     1                     0                      0   \n",
       "1                     0                     1                      0   \n",
       "2                     0                     1                      0   \n",
       "3                     0                     0                      1   \n",
       "4                     0                     0                      0   \n",
       "\n",
       "   1st Block Koramangala  ...  Vivek Nagar  Volagerekallahalli  Whitefield,  \\\n",
       "0                      0  ...            0                   0            0   \n",
       "1                      0  ...            0                   0            0   \n",
       "2                      0  ...            0                   0            0   \n",
       "3                      0  ...            0                   0            0   \n",
       "4                      1  ...            0                   0            0   \n",
       "\n",
       "   Wilson Garden  Yarandahalli  Yemlur  frazertown  manyata park  south  \\\n",
       "0              0             0       0           0             0      0   \n",
       "1              0             0       0           0             0      0   \n",
       "2              0             0       0           0             0      0   \n",
       "3              0             0       0           0             0      0   \n",
       "4              0             0       0           0             0      0   \n",
       "\n",
       "   tc.palya  \n",
       "0         0  \n",
       "1         0  \n",
       "2         0  \n",
       "3         0  \n",
       "4         0  \n",
       "\n",
       "[5 rows x 511 columns]"
      ]
     },
     "execution_count": 61,
     "metadata": {},
     "output_type": "execute_result"
    }
   ],
   "source": [
    "df.head()"
   ]
  },
  {
   "cell_type": "markdown",
   "metadata": {},
   "source": [
    "# **Model building: Taking input as X and Y**"
   ]
  },
  {
   "cell_type": "code",
   "execution_count": 82,
   "metadata": {
    "id": "0ZWyP6oOJRfn",
    "scrolled": true
   },
   "outputs": [
    {
     "name": "stdout",
     "output_type": "stream",
     "text": [
      "   total_sqft  bath  balcony  BHK  price_per_sqft  1st Block BEL Layout  \\\n",
      "0      1540.0   3.0      2.0    3     5519.480519                     1   \n",
      "1       600.0   1.0      0.0    1     7500.000000                     0   \n",
      "2      3150.0   4.0      2.0    4     4761.904762                     0   \n",
      "3      1250.0   2.0      1.0    2     5360.000000                     0   \n",
      "4      1415.0   2.0      3.0    2     7773.851590                     0   \n",
      "\n",
      "   1st Block HBR Layout  1st Block HRBR Layout  1st Block Koramangala  \\\n",
      "0                     0                      0                      0   \n",
      "1                     1                      0                      0   \n",
      "2                     1                      0                      0   \n",
      "3                     0                      1                      0   \n",
      "4                     0                      0                      1   \n",
      "\n",
      "   1st Stage Indira Nagar  ...  Vivek Nagar  Volagerekallahalli  Whitefield,  \\\n",
      "0                       0  ...            0                   0            0   \n",
      "1                       0  ...            0                   0            0   \n",
      "2                       0  ...            0                   0            0   \n",
      "3                       0  ...            0                   0            0   \n",
      "4                       0  ...            0                   0            0   \n",
      "\n",
      "   Wilson Garden  Yarandahalli  Yemlur  frazertown  manyata park  south  \\\n",
      "0              0             0       0           0             0      0   \n",
      "1              0             0       0           0             0      0   \n",
      "2              0             0       0           0             0      0   \n",
      "3              0             0       0           0             0      0   \n",
      "4              0             0       0           0             0      0   \n",
      "\n",
      "   tc.palya  \n",
      "0         0  \n",
      "1         0  \n",
      "2         0  \n",
      "3         0  \n",
      "4         0  \n",
      "\n",
      "[5 rows x 510 columns]\n"
     ]
    }
   ],
   "source": [
    "X=df.drop(\"price\",axis='columns')\n",
    "y=df.price\n",
    "print(X.head())\n",
    "m1=['Linear Regression','Lasso','Ridge','SVR','Decision Tree','Random Forest']\n",
    "acc2=[]\n"
   ]
  },
  {
   "cell_type": "code",
   "execution_count": 83,
   "metadata": {
    "id": "TzoCpViaJdCp"
   },
   "outputs": [],
   "source": [
    "X_train, X_test, y_train, y_test = train_test_split(X,y,test_size=0.2,random_state=42)"
   ]
  },
  {
   "cell_type": "markdown",
   "metadata": {},
   "source": [
    "#  a).Applying linear regression"
   ]
  },
  {
   "cell_type": "code",
   "execution_count": 84,
   "metadata": {},
   "outputs": [],
   "source": [
    "from sklearn.linear_model import LinearRegression\n",
    "lr_clf = LinearRegression()\n",
    "lr_clf.fit(X_train,y_train)\n",
    "y_pred1 = lr_clf.predict(X_test)\n",
    "\n",
    "acc2.append(r2_score(y_test, y_pred1))\n",
    "\n"
   ]
  },
  {
   "cell_type": "markdown",
   "metadata": {},
   "source": [
    "# b).Lasso for L1 regularisation"
   ]
  },
  {
   "cell_type": "code",
   "execution_count": 85,
   "metadata": {},
   "outputs": [],
   "source": [
    "from sklearn import linear_model\n",
    "lasso_reg=linear_model.Lasso(alpha=100,max_iter=100,tol=0.1)\n",
    "lasso_reg.fit(X_train,y_train)\n",
    "y_pred2 = lasso_reg.predict(X_test)\n",
    "\n",
    "acc2.append(r2_score(y_test, y_pred2))"
   ]
  },
  {
   "cell_type": "markdown",
   "metadata": {},
   "source": [
    "# c). Ridge for L2 regularisation"
   ]
  },
  {
   "cell_type": "code",
   "execution_count": 86,
   "metadata": {},
   "outputs": [],
   "source": [
    "from sklearn.linear_model import Ridge\n",
    "ridge_reg=Ridge(alpha=100,max_iter=100,tol=0.1)\n",
    "ridge_reg.fit(X_train,y_train)\n",
    "y_pred3 = ridge_reg.predict(X_test)\n",
    "\n",
    "acc2.append(r2_score(y_test, y_pred3))"
   ]
  },
  {
   "cell_type": "markdown",
   "metadata": {},
   "source": [
    "# d). Applying Support Vector Regression"
   ]
  },
  {
   "cell_type": "code",
   "execution_count": 87,
   "metadata": {},
   "outputs": [],
   "source": [
    "y1=df.iloc[:,3].apply(int)\n",
    "y1=y1.values\n",
    "y1=y1.reshape(-1,1)\n",
    "\n",
    "# Feature Scaling\n",
    "from sklearn.preprocessing import StandardScaler\n",
    "sc_X = StandardScaler()\n",
    "sc_y = StandardScaler()\n",
    "X1 = sc_X.fit_transform(X)\n",
    "y1 = sc_y.fit_transform(y1)\n"
   ]
  },
  {
   "cell_type": "code",
   "execution_count": 88,
   "metadata": {
    "scrolled": false
   },
   "outputs": [
    {
     "data": {
      "text/plain": [
       "SVR()"
      ]
     },
     "execution_count": 88,
     "metadata": {},
     "output_type": "execute_result"
    }
   ],
   "source": [
    "from sklearn.svm import SVR\n",
    "regressor = SVR(kernel = 'rbf')\n",
    "regressor.fit(X1,np.ravel(y1))\n"
   ]
  },
  {
   "cell_type": "code",
   "execution_count": 89,
   "metadata": {},
   "outputs": [],
   "source": [
    "y_pred4 = sc_y.inverse_transform(regressor.predict(sc_X.transform(X_test)))\n",
    "# Evaluating the Model Performance\n",
    "from sklearn.metrics import r2_score\n",
    "acc2.append(r2_score(y_test, y_pred4))"
   ]
  },
  {
   "cell_type": "markdown",
   "metadata": {},
   "source": [
    "# e).Applying Decision Tree "
   ]
  },
  {
   "cell_type": "code",
   "execution_count": 90,
   "metadata": {},
   "outputs": [],
   "source": [
    "# Training the Decision Tree Regression model on the Training set\n",
    "from sklearn.tree import DecisionTreeRegressor\n",
    "reg_dtr = DecisionTreeRegressor(random_state = 70)\n",
    "reg_dtr.fit(X_train, y_train)\n",
    "\n",
    "# Predicting the Test set results\n",
    "y_pred5 = reg_dtr.predict(X_test)\n",
    "\n",
    "# Evaluating the Model Performance\n",
    "acc2.append(r2_score(y_test, y_pred5))"
   ]
  },
  {
   "cell_type": "markdown",
   "metadata": {},
   "source": [
    "# f).**Applying Random Forest Regressor model**"
   ]
  },
  {
   "cell_type": "code",
   "execution_count": 91,
   "metadata": {
    "id": "4AqViTjWJnM7",
    "outputId": "711f1be8-aa3b-40de-bb76-a6be21788dd8"
   },
   "outputs": [
    {
     "name": "stdout",
     "output_type": "stream",
     "text": [
      "0.9687523723514812\n"
     ]
    }
   ],
   "source": [
    "rf_clf=RandomForestRegressor()\n",
    "rf_clf.fit(X_train,y_train)\n",
    "rf_Y_pred6=rf_clf.predict(X_test)\n",
    "rf_score=r2_score(y_test,rf_Y_pred6)\n",
    "print(rf_score)"
   ]
  },
  {
   "cell_type": "code",
   "execution_count": 73,
   "metadata": {
    "id": "EOc7nBixKekg",
    "outputId": "bd2efac9-6800-461d-f36f-7a8958d22a26"
   },
   "outputs": [
    {
     "name": "stdout",
     "output_type": "stream",
     "text": [
      "With 10 estimators:\n",
      "Accuracy: 32.344169%\n",
      "With 20 estimators:\n",
      "Accuracy: 69.908789%\n",
      "With 30 estimators:\n",
      "Accuracy: 81.114736%\n",
      "With 40 estimators:\n",
      "Accuracy: 89.418342%\n",
      "With 50 estimators:\n",
      "Accuracy: 95.869130%\n",
      "With 60 estimators:\n",
      "Accuracy: 96.123388%\n",
      "With 70 estimators:\n",
      "Accuracy: 98.394930%\n",
      "With 80 estimators:\n",
      "Accuracy: 98.586798%\n",
      "With 90 estimators:\n",
      "Accuracy: 96.903276%\n",
      "With 100 estimators:\n",
      "Accuracy: 93.913432%\n",
      "With 110 estimators:\n",
      "Accuracy: 98.780508%\n",
      "With 120 estimators:\n",
      "Accuracy: 98.478475%\n",
      "With 130 estimators:\n",
      "Accuracy: 97.793480%\n",
      "With 140 estimators:\n",
      "Accuracy: 98.088325%\n",
      "With 150 estimators:\n",
      "Accuracy: 98.734694%\n",
      "With 160 estimators:\n",
      "Accuracy: 95.216819%\n",
      "With 170 estimators:\n",
      "Accuracy: 98.650546%\n",
      "With 180 estimators:\n",
      "Accuracy: 98.108360%\n",
      "With 190 estimators:\n",
      "Accuracy: 97.829342%\n",
      "With 200 estimators:\n",
      "Accuracy: 98.569289%\n",
      "With 210 estimators:\n",
      "Accuracy: 98.644065%\n",
      "With 220 estimators:\n",
      "Accuracy: 98.623389%\n",
      "With 230 estimators:\n",
      "Accuracy: 98.487427%\n",
      "With 240 estimators:\n",
      "Accuracy: 98.464556%\n",
      "With 250 estimators:\n",
      "Accuracy: 97.214555%\n",
      "With 260 estimators:\n",
      "Accuracy: 97.985002%\n",
      "With 270 estimators:\n",
      "Accuracy: 97.434903%\n",
      "With 280 estimators:\n",
      "Accuracy: 97.946586%\n",
      "With 290 estimators:\n",
      "Accuracy: 98.043074%\n",
      "With 300 estimators:\n",
      "Accuracy: 97.958706%\n",
      "With 310 estimators:\n",
      "Accuracy: 98.248629%\n",
      "With 320 estimators:\n",
      "Accuracy: 98.395663%\n",
      "With 330 estimators:\n",
      "Accuracy: 98.161536%\n",
      "With 340 estimators:\n",
      "Accuracy: 97.528214%\n",
      "With 350 estimators:\n",
      "Accuracy: 98.588922%\n",
      "With 360 estimators:\n",
      "Accuracy: 98.666729%\n",
      "With 370 estimators:\n",
      "Accuracy: 98.447234%\n",
      "With 380 estimators:\n",
      "Accuracy: 98.655523%\n",
      "With 390 estimators:\n",
      "Accuracy: 98.766941%\n"
     ]
    }
   ],
   "source": [
    "from sklearn.ensemble import RandomForestRegressor\n",
    "np.random.seed(42)\n",
    "for i in range(1,40,1):\n",
    "  print(f\"With {i*10} estimators:\")\n",
    "  clf2=RandomForestRegressor(n_estimators=i*10,max_depth=i,random_state=i).fit(X_train,y_train)\n",
    "  print(f\"Accuracy: {clf2.score(X_test,y_test)*100:2f}%\")"
   ]
  },
  {
   "cell_type": "code",
   "execution_count": 92,
   "metadata": {
    "id": "FO39ldzYMPcT",
    "outputId": "ed839ea1-2f66-4af8-e62c-b6b5c0d6ee41"
   },
   "outputs": [],
   "source": [
    "RF_clf2=RandomForestRegressor(n_estimators=110,max_depth=11,random_state=11)\n",
    "RF_clf2.fit(X_train,y_train)\n",
    "RF2_Y_pred7=RF_clf2.predict(X_test)\n",
    "RF2_score=r2_score(y_test,RF2_Y_pred7)\n",
    "acc2.append(RF2_score)"
   ]
  },
  {
   "cell_type": "code",
   "execution_count": 93,
   "metadata": {
    "id": "YMV607YHtNLz",
    "outputId": "30c71e53-4348-47fa-b4d2-9de07ed4ad4f"
   },
   "outputs": [
    {
     "data": {
      "text/plain": [
       "71.85652446950738"
      ]
     },
     "execution_count": 93,
     "metadata": {},
     "output_type": "execute_result"
    }
   ],
   "source": [
    "mean_squared_error(y_test,RF2_Y_pred7)"
   ]
  },
  {
   "cell_type": "code",
   "execution_count": 94,
   "metadata": {
    "id": "7t4T6MgxgL-t",
    "outputId": "3bdbc7a0-6ae6-4256-b93e-7992d4cc969c"
   },
   "outputs": [
    {
     "data": {
      "text/html": [
       "<div>\n",
       "<style scoped>\n",
       "    .dataframe tbody tr th:only-of-type {\n",
       "        vertical-align: middle;\n",
       "    }\n",
       "\n",
       "    .dataframe tbody tr th {\n",
       "        vertical-align: top;\n",
       "    }\n",
       "\n",
       "    .dataframe thead th {\n",
       "        text-align: right;\n",
       "    }\n",
       "</style>\n",
       "<table border=\"1\" class=\"dataframe\">\n",
       "  <thead>\n",
       "    <tr style=\"text-align: right;\">\n",
       "      <th></th>\n",
       "      <th>Actual</th>\n",
       "      <th>Predicted</th>\n",
       "    </tr>\n",
       "  </thead>\n",
       "  <tbody>\n",
       "    <tr>\n",
       "      <th>8086</th>\n",
       "      <td>58.00</td>\n",
       "      <td>57.815527</td>\n",
       "    </tr>\n",
       "    <tr>\n",
       "      <th>34</th>\n",
       "      <td>240.00</td>\n",
       "      <td>240.220644</td>\n",
       "    </tr>\n",
       "    <tr>\n",
       "      <th>8</th>\n",
       "      <td>500.00</td>\n",
       "      <td>484.337662</td>\n",
       "    </tr>\n",
       "    <tr>\n",
       "      <th>6287</th>\n",
       "      <td>192.00</td>\n",
       "      <td>185.712349</td>\n",
       "    </tr>\n",
       "    <tr>\n",
       "      <th>8336</th>\n",
       "      <td>204.00</td>\n",
       "      <td>202.074612</td>\n",
       "    </tr>\n",
       "    <tr>\n",
       "      <th>...</th>\n",
       "      <td>...</td>\n",
       "      <td>...</td>\n",
       "    </tr>\n",
       "    <tr>\n",
       "      <th>2542</th>\n",
       "      <td>30.00</td>\n",
       "      <td>29.466674</td>\n",
       "    </tr>\n",
       "    <tr>\n",
       "      <th>7360</th>\n",
       "      <td>76.18</td>\n",
       "      <td>76.718765</td>\n",
       "    </tr>\n",
       "    <tr>\n",
       "      <th>2444</th>\n",
       "      <td>135.00</td>\n",
       "      <td>134.301413</td>\n",
       "    </tr>\n",
       "    <tr>\n",
       "      <th>4644</th>\n",
       "      <td>65.00</td>\n",
       "      <td>65.130019</td>\n",
       "    </tr>\n",
       "    <tr>\n",
       "      <th>967</th>\n",
       "      <td>270.00</td>\n",
       "      <td>271.795328</td>\n",
       "    </tr>\n",
       "  </tbody>\n",
       "</table>\n",
       "<p>1098 rows × 2 columns</p>\n",
       "</div>"
      ],
      "text/plain": [
       "      Actual   Predicted\n",
       "8086   58.00   57.815527\n",
       "34    240.00  240.220644\n",
       "8     500.00  484.337662\n",
       "6287  192.00  185.712349\n",
       "8336  204.00  202.074612\n",
       "...      ...         ...\n",
       "2542   30.00   29.466674\n",
       "7360   76.18   76.718765\n",
       "2444  135.00  134.301413\n",
       "4644   65.00   65.130019\n",
       "967   270.00  271.795328\n",
       "\n",
       "[1098 rows x 2 columns]"
      ]
     },
     "execution_count": 94,
     "metadata": {},
     "output_type": "execute_result"
    }
   ],
   "source": [
    "df1=pd.DataFrame({'Actual': y_test,'Predicted': RF2_Y_pred7})\n",
    "df1"
   ]
  },
  {
   "cell_type": "code",
   "execution_count": 95,
   "metadata": {
    "id": "jzxKhJm2h72O",
    "outputId": "a223f1dc-8c78-4405-a195-12d301562191"
   },
   "outputs": [
    {
     "data": {
      "text/plain": [
       "['Linear Regression',\n",
       " 'Lasso',\n",
       " 'Ridge',\n",
       " 'SVR',\n",
       " 'Decision Tree',\n",
       " 'Random Forest']"
      ]
     },
     "execution_count": 95,
     "metadata": {},
     "output_type": "execute_result"
    },
    {
     "data": {
      "image/png": "[encoded data removed]",
      "text/plain": [
       "<Figure size 576x432 with 1 Axes>"
      ]
     },
     "metadata": {},
     "output_type": "display_data"
    }
   ],
   "source": [
    "fig,ax = plt.subplots(figsize=(8,6))\n",
    "sns.regplot(x='Actual',y='Predicted',data=df1)\n",
    "m1"
   ]
  },
  {
   "cell_type": "markdown",
   "metadata": {},
   "source": [
    "# Model to be selected"
   ]
  },
  {
   "cell_type": "code",
   "execution_count": 96,
   "metadata": {},
   "outputs": [
    {
     "data": {
      "text/html": [
       "<div>\n",
       "<style scoped>\n",
       "    .dataframe tbody tr th:only-of-type {\n",
       "        vertical-align: middle;\n",
       "    }\n",
       "\n",
       "    .dataframe tbody tr th {\n",
       "        vertical-align: top;\n",
       "    }\n",
       "\n",
       "    .dataframe thead th {\n",
       "        text-align: right;\n",
       "    }\n",
       "</style>\n",
       "<table border=\"1\" class=\"dataframe\">\n",
       "  <thead>\n",
       "    <tr style=\"text-align: right;\">\n",
       "      <th></th>\n",
       "      <th>model</th>\n",
       "      <th>accuracy</th>\n",
       "    </tr>\n",
       "  </thead>\n",
       "  <tbody>\n",
       "    <tr>\n",
       "      <th>0</th>\n",
       "      <td>Linear Regression</td>\n",
       "      <td>0.922213</td>\n",
       "    </tr>\n",
       "    <tr>\n",
       "      <th>1</th>\n",
       "      <td>Lasso</td>\n",
       "      <td>0.923633</td>\n",
       "    </tr>\n",
       "    <tr>\n",
       "      <th>2</th>\n",
       "      <td>Ridge</td>\n",
       "      <td>0.923802</td>\n",
       "    </tr>\n",
       "    <tr>\n",
       "      <th>3</th>\n",
       "      <td>SVR</td>\n",
       "      <td>0.708187</td>\n",
       "    </tr>\n",
       "    <tr>\n",
       "      <th>4</th>\n",
       "      <td>Decision Tree</td>\n",
       "      <td>0.928097</td>\n",
       "    </tr>\n",
       "    <tr>\n",
       "      <th>5</th>\n",
       "      <td>Random Forest</td>\n",
       "      <td>0.987805</td>\n",
       "    </tr>\n",
       "  </tbody>\n",
       "</table>\n",
       "</div>"
      ],
      "text/plain": [
       "               model  accuracy\n",
       "0  Linear Regression  0.922213\n",
       "1              Lasso  0.923633\n",
       "2              Ridge  0.923802\n",
       "3                SVR  0.708187\n",
       "4      Decision Tree  0.928097\n",
       "5      Random Forest  0.987805"
      ]
     },
     "execution_count": 96,
     "metadata": {},
     "output_type": "execute_result"
    }
   ],
   "source": [
    "\n",
    "model1=pd.DataFrame({'model':m1,'accuracy':  acc2 })\n",
    "model1"
   ]
  },
  {
   "cell_type": "code",
   "execution_count": 97,
   "metadata": {},
   "outputs": [
    {
     "name": "stdout",
     "output_type": "stream",
     "text": [
      "Index(['total_sqft', 'bath', 'balcony', 'BHK', 'price_per_sqft',\n",
      "       '1st Block BEL Layout', '1st Block HBR Layout', '1st Block HRBR Layout',\n",
      "       '1st Block Koramangala', '1st Stage Indira Nagar',\n",
      "       ...\n",
      "       'Vivek Nagar', 'Volagerekallahalli', 'Whitefield,', 'Wilson Garden',\n",
      "       'Yarandahalli', 'Yemlur', 'frazertown', 'manyata park', 'south',\n",
      "       'tc.palya'],\n",
      "      dtype='object', length=510)\n"
     ]
    }
   ],
   "source": [
    "print(X.columns)"
   ]
  },
  {
   "cell_type": "markdown",
   "metadata": {},
   "source": [
    "# Prediction"
   ]
  },
  {
   "cell_type": "code",
   "execution_count": 98,
   "metadata": {},
   "outputs": [],
   "source": [
    "def predict_price_ridge(location,sqft,bath,balcony,bhk):    \n",
    "    \n",
    "    loc_index = np.where(df.columns==location)[0][0]\n",
    "\n",
    "    x = np.zeros(len(X.columns))\n",
    "    x[0] = sqft\n",
    "    x[1] = bath\n",
    "    x[2] = balcony\n",
    "    x[3] = bhk\n",
    "    if loc_index >0:\n",
    "        x[loc_index] = 1\n",
    "\n",
    "    return ridge_reg.predict([x])[0]"
   ]
  },
  {
   "cell_type": "code",
   "execution_count": 99,
   "metadata": {},
   "outputs": [],
   "source": [
    "def predict_price_lasso(location,sqft,bath,balcony,bhk):    \n",
    "    \n",
    "    loc_index = np.where(df.columns==location)[0][0]\n",
    "\n",
    "    x = np.zeros(len(X.columns))\n",
    "    x[0] = sqft\n",
    "    x[1] = bath\n",
    "    x[2] = balcony\n",
    "    x[3] = bhk\n",
    "    if loc_index >0:\n",
    "        x[loc_index] = 1\n",
    "\n",
    "    return lasso_reg.predict([x])[0]"
   ]
  },
  {
   "cell_type": "code",
   "execution_count": 101,
   "metadata": {},
   "outputs": [
    {
     "data": {
      "text/plain": [
       "33.97060900630626"
      ]
     },
     "execution_count": 101,
     "metadata": {},
     "output_type": "execute_result"
    }
   ],
   "source": [
    "predict_price_lasso('Yemlur',2500, 2,2,3)\n"
   ]
  },
  {
   "cell_type": "code",
   "execution_count": 112,
   "metadata": {},
   "outputs": [
    {
     "data": {
      "text/plain": [
       "90.0"
      ]
     },
     "execution_count": 112,
     "metadata": {},
     "output_type": "execute_result"
    }
   ],
   "source": [
    "predict_price_dtr('Yemlur',2500,2,2,3)\n"
   ]
  },
  {
   "cell_type": "code",
   "execution_count": 103,
   "metadata": {},
   "outputs": [],
   "source": [
    "def predict_price_dtr(location,sqft,bath,balcony,bhk):    \n",
    "    \n",
    "    loc_index = np.where(X.columns==location)[0][0]\n",
    "\n",
    "    x = np.zeros(len(X.columns))\n",
    "    x[0] = sqft\n",
    "    x[1] = bath\n",
    "    x[2] = balcony\n",
    "    x[3] = bhk\n",
    "    if loc_index >0:\n",
    "        x[loc_index] = 1\n",
    "\n",
    "    return reg_dtr.predict([x])[0]"
   ]
  },
  {
   "cell_type": "code",
   "execution_count": 104,
   "metadata": {},
   "outputs": [
    {
     "data": {
      "text/plain": [
       "28.18"
      ]
     },
     "execution_count": 104,
     "metadata": {},
     "output_type": "execute_result"
    }
   ],
   "source": [
    "predict_price_dtr('Yemlur',1000, 2, 2,3)\n"
   ]
  },
  {
   "cell_type": "code",
   "execution_count": 105,
   "metadata": {},
   "outputs": [
    {
     "name": "stdout",
     "output_type": "stream",
     "text": [
      "Lenght of training data: 4392\n",
      "Lenght of testing data: 1098\n"
     ]
    },
    {
     "data": {
      "text/html": [
       "<div>\n",
       "<style scoped>\n",
       "    .dataframe tbody tr th:only-of-type {\n",
       "        vertical-align: middle;\n",
       "    }\n",
       "\n",
       "    .dataframe tbody tr th {\n",
       "        vertical-align: top;\n",
       "    }\n",
       "\n",
       "    .dataframe thead th {\n",
       "        text-align: right;\n",
       "    }\n",
       "</style>\n",
       "<table border=\"1\" class=\"dataframe\">\n",
       "  <thead>\n",
       "    <tr style=\"text-align: right;\">\n",
       "      <th></th>\n",
       "      <th>total_sqft</th>\n",
       "      <th>bath</th>\n",
       "      <th>balcony</th>\n",
       "      <th>BHK</th>\n",
       "      <th>price_per_sqft</th>\n",
       "      <th>1st Block BEL Layout</th>\n",
       "      <th>1st Block HBR Layout</th>\n",
       "      <th>1st Block HRBR Layout</th>\n",
       "      <th>1st Block Koramangala</th>\n",
       "      <th>1st Stage Indira Nagar</th>\n",
       "      <th>...</th>\n",
       "      <th>Vivek Nagar</th>\n",
       "      <th>Volagerekallahalli</th>\n",
       "      <th>Whitefield,</th>\n",
       "      <th>Wilson Garden</th>\n",
       "      <th>Yarandahalli</th>\n",
       "      <th>Yemlur</th>\n",
       "      <th>frazertown</th>\n",
       "      <th>manyata park</th>\n",
       "      <th>south</th>\n",
       "      <th>tc.palya</th>\n",
       "    </tr>\n",
       "  </thead>\n",
       "  <tbody>\n",
       "    <tr>\n",
       "      <th>8086</th>\n",
       "      <td>1100.0</td>\n",
       "      <td>2.0</td>\n",
       "      <td>1.0</td>\n",
       "      <td>2</td>\n",
       "      <td>5272.727273</td>\n",
       "      <td>0</td>\n",
       "      <td>0</td>\n",
       "      <td>0</td>\n",
       "      <td>0</td>\n",
       "      <td>0</td>\n",
       "      <td>...</td>\n",
       "      <td>0</td>\n",
       "      <td>0</td>\n",
       "      <td>0</td>\n",
       "      <td>0</td>\n",
       "      <td>0</td>\n",
       "      <td>0</td>\n",
       "      <td>0</td>\n",
       "      <td>0</td>\n",
       "      <td>0</td>\n",
       "      <td>0</td>\n",
       "    </tr>\n",
       "    <tr>\n",
       "      <th>34</th>\n",
       "      <td>2005.0</td>\n",
       "      <td>3.0</td>\n",
       "      <td>2.0</td>\n",
       "      <td>3</td>\n",
       "      <td>11970.074813</td>\n",
       "      <td>0</td>\n",
       "      <td>0</td>\n",
       "      <td>0</td>\n",
       "      <td>0</td>\n",
       "      <td>0</td>\n",
       "      <td>...</td>\n",
       "      <td>0</td>\n",
       "      <td>0</td>\n",
       "      <td>0</td>\n",
       "      <td>0</td>\n",
       "      <td>0</td>\n",
       "      <td>0</td>\n",
       "      <td>0</td>\n",
       "      <td>0</td>\n",
       "      <td>0</td>\n",
       "      <td>0</td>\n",
       "    </tr>\n",
       "    <tr>\n",
       "      <th>8</th>\n",
       "      <td>3000.0</td>\n",
       "      <td>5.0</td>\n",
       "      <td>3.0</td>\n",
       "      <td>4</td>\n",
       "      <td>16666.666667</td>\n",
       "      <td>0</td>\n",
       "      <td>0</td>\n",
       "      <td>0</td>\n",
       "      <td>1</td>\n",
       "      <td>0</td>\n",
       "      <td>...</td>\n",
       "      <td>0</td>\n",
       "      <td>0</td>\n",
       "      <td>0</td>\n",
       "      <td>0</td>\n",
       "      <td>0</td>\n",
       "      <td>0</td>\n",
       "      <td>0</td>\n",
       "      <td>0</td>\n",
       "      <td>0</td>\n",
       "      <td>0</td>\n",
       "    </tr>\n",
       "    <tr>\n",
       "      <th>6287</th>\n",
       "      <td>2273.0</td>\n",
       "      <td>4.0</td>\n",
       "      <td>2.0</td>\n",
       "      <td>3</td>\n",
       "      <td>8446.986362</td>\n",
       "      <td>0</td>\n",
       "      <td>0</td>\n",
       "      <td>0</td>\n",
       "      <td>0</td>\n",
       "      <td>0</td>\n",
       "      <td>...</td>\n",
       "      <td>0</td>\n",
       "      <td>0</td>\n",
       "      <td>0</td>\n",
       "      <td>0</td>\n",
       "      <td>0</td>\n",
       "      <td>0</td>\n",
       "      <td>0</td>\n",
       "      <td>0</td>\n",
       "      <td>0</td>\n",
       "      <td>0</td>\n",
       "    </tr>\n",
       "    <tr>\n",
       "      <th>8336</th>\n",
       "      <td>2732.0</td>\n",
       "      <td>4.0</td>\n",
       "      <td>3.0</td>\n",
       "      <td>4</td>\n",
       "      <td>7467.057101</td>\n",
       "      <td>0</td>\n",
       "      <td>0</td>\n",
       "      <td>0</td>\n",
       "      <td>0</td>\n",
       "      <td>0</td>\n",
       "      <td>...</td>\n",
       "      <td>0</td>\n",
       "      <td>0</td>\n",
       "      <td>0</td>\n",
       "      <td>0</td>\n",
       "      <td>0</td>\n",
       "      <td>0</td>\n",
       "      <td>0</td>\n",
       "      <td>0</td>\n",
       "      <td>0</td>\n",
       "      <td>0</td>\n",
       "    </tr>\n",
       "    <tr>\n",
       "      <th>...</th>\n",
       "      <td>...</td>\n",
       "      <td>...</td>\n",
       "      <td>...</td>\n",
       "      <td>...</td>\n",
       "      <td>...</td>\n",
       "      <td>...</td>\n",
       "      <td>...</td>\n",
       "      <td>...</td>\n",
       "      <td>...</td>\n",
       "      <td>...</td>\n",
       "      <td>...</td>\n",
       "      <td>...</td>\n",
       "      <td>...</td>\n",
       "      <td>...</td>\n",
       "      <td>...</td>\n",
       "      <td>...</td>\n",
       "      <td>...</td>\n",
       "      <td>...</td>\n",
       "      <td>...</td>\n",
       "      <td>...</td>\n",
       "      <td>...</td>\n",
       "    </tr>\n",
       "    <tr>\n",
       "      <th>2542</th>\n",
       "      <td>765.0</td>\n",
       "      <td>2.0</td>\n",
       "      <td>2.0</td>\n",
       "      <td>1</td>\n",
       "      <td>3921.568627</td>\n",
       "      <td>0</td>\n",
       "      <td>0</td>\n",
       "      <td>0</td>\n",
       "      <td>0</td>\n",
       "      <td>0</td>\n",
       "      <td>...</td>\n",
       "      <td>0</td>\n",
       "      <td>0</td>\n",
       "      <td>0</td>\n",
       "      <td>0</td>\n",
       "      <td>0</td>\n",
       "      <td>0</td>\n",
       "      <td>0</td>\n",
       "      <td>0</td>\n",
       "      <td>0</td>\n",
       "      <td>0</td>\n",
       "    </tr>\n",
       "    <tr>\n",
       "      <th>7360</th>\n",
       "      <td>1384.0</td>\n",
       "      <td>2.0</td>\n",
       "      <td>2.0</td>\n",
       "      <td>3</td>\n",
       "      <td>5504.335260</td>\n",
       "      <td>0</td>\n",
       "      <td>0</td>\n",
       "      <td>0</td>\n",
       "      <td>0</td>\n",
       "      <td>0</td>\n",
       "      <td>...</td>\n",
       "      <td>0</td>\n",
       "      <td>0</td>\n",
       "      <td>0</td>\n",
       "      <td>0</td>\n",
       "      <td>0</td>\n",
       "      <td>0</td>\n",
       "      <td>0</td>\n",
       "      <td>0</td>\n",
       "      <td>0</td>\n",
       "      <td>0</td>\n",
       "    </tr>\n",
       "    <tr>\n",
       "      <th>2444</th>\n",
       "      <td>1700.0</td>\n",
       "      <td>3.0</td>\n",
       "      <td>3.0</td>\n",
       "      <td>3</td>\n",
       "      <td>7941.176471</td>\n",
       "      <td>0</td>\n",
       "      <td>0</td>\n",
       "      <td>0</td>\n",
       "      <td>0</td>\n",
       "      <td>0</td>\n",
       "      <td>...</td>\n",
       "      <td>0</td>\n",
       "      <td>0</td>\n",
       "      <td>0</td>\n",
       "      <td>0</td>\n",
       "      <td>0</td>\n",
       "      <td>0</td>\n",
       "      <td>0</td>\n",
       "      <td>0</td>\n",
       "      <td>0</td>\n",
       "      <td>0</td>\n",
       "    </tr>\n",
       "    <tr>\n",
       "      <th>4644</th>\n",
       "      <td>1265.0</td>\n",
       "      <td>2.0</td>\n",
       "      <td>1.0</td>\n",
       "      <td>3</td>\n",
       "      <td>5138.339921</td>\n",
       "      <td>0</td>\n",
       "      <td>0</td>\n",
       "      <td>0</td>\n",
       "      <td>0</td>\n",
       "      <td>0</td>\n",
       "      <td>...</td>\n",
       "      <td>0</td>\n",
       "      <td>0</td>\n",
       "      <td>0</td>\n",
       "      <td>0</td>\n",
       "      <td>0</td>\n",
       "      <td>0</td>\n",
       "      <td>0</td>\n",
       "      <td>0</td>\n",
       "      <td>0</td>\n",
       "      <td>0</td>\n",
       "    </tr>\n",
       "    <tr>\n",
       "      <th>967</th>\n",
       "      <td>3259.0</td>\n",
       "      <td>3.0</td>\n",
       "      <td>0.0</td>\n",
       "      <td>3</td>\n",
       "      <td>8284.749923</td>\n",
       "      <td>0</td>\n",
       "      <td>0</td>\n",
       "      <td>0</td>\n",
       "      <td>0</td>\n",
       "      <td>0</td>\n",
       "      <td>...</td>\n",
       "      <td>0</td>\n",
       "      <td>0</td>\n",
       "      <td>0</td>\n",
       "      <td>0</td>\n",
       "      <td>0</td>\n",
       "      <td>0</td>\n",
       "      <td>0</td>\n",
       "      <td>0</td>\n",
       "      <td>0</td>\n",
       "      <td>0</td>\n",
       "    </tr>\n",
       "  </tbody>\n",
       "</table>\n",
       "<p>1098 rows × 510 columns</p>\n",
       "</div>"
      ],
      "text/plain": [
       "      total_sqft  bath  balcony  BHK  price_per_sqft  1st Block BEL Layout  \\\n",
       "8086      1100.0   2.0      1.0    2     5272.727273                     0   \n",
       "34        2005.0   3.0      2.0    3    11970.074813                     0   \n",
       "8         3000.0   5.0      3.0    4    16666.666667                     0   \n",
       "6287      2273.0   4.0      2.0    3     8446.986362                     0   \n",
       "8336      2732.0   4.0      3.0    4     7467.057101                     0   \n",
       "...          ...   ...      ...  ...             ...                   ...   \n",
       "2542       765.0   2.0      2.0    1     3921.568627                     0   \n",
       "7360      1384.0   2.0      2.0    3     5504.335260                     0   \n",
       "2444      1700.0   3.0      3.0    3     7941.176471                     0   \n",
       "4644      1265.0   2.0      1.0    3     5138.339921                     0   \n",
       "967       3259.0   3.0      0.0    3     8284.749923                     0   \n",
       "\n",
       "      1st Block HBR Layout  1st Block HRBR Layout  1st Block Koramangala  \\\n",
       "8086                     0                      0                      0   \n",
       "34                       0                      0                      0   \n",
       "8                        0                      0                      1   \n",
       "6287                     0                      0                      0   \n",
       "8336                     0                      0                      0   \n",
       "...                    ...                    ...                    ...   \n",
       "2542                     0                      0                      0   \n",
       "7360                     0                      0                      0   \n",
       "2444                     0                      0                      0   \n",
       "4644                     0                      0                      0   \n",
       "967                      0                      0                      0   \n",
       "\n",
       "      1st Stage Indira Nagar  ...  Vivek Nagar  Volagerekallahalli  \\\n",
       "8086                       0  ...            0                   0   \n",
       "34                         0  ...            0                   0   \n",
       "8                          0  ...            0                   0   \n",
       "6287                       0  ...            0                   0   \n",
       "8336                       0  ...            0                   0   \n",
       "...                      ...  ...          ...                 ...   \n",
       "2542                       0  ...            0                   0   \n",
       "7360                       0  ...            0                   0   \n",
       "2444                       0  ...            0                   0   \n",
       "4644                       0  ...            0                   0   \n",
       "967                        0  ...            0                   0   \n",
       "\n",
       "      Whitefield,  Wilson Garden  Yarandahalli  Yemlur  frazertown  \\\n",
       "8086            0              0             0       0           0   \n",
       "34              0              0             0       0           0   \n",
       "8               0              0             0       0           0   \n",
       "6287            0              0             0       0           0   \n",
       "8336            0              0             0       0           0   \n",
       "...           ...            ...           ...     ...         ...   \n",
       "2542            0              0             0       0           0   \n",
       "7360            0              0             0       0           0   \n",
       "2444            0              0             0       0           0   \n",
       "4644            0              0             0       0           0   \n",
       "967             0              0             0       0           0   \n",
       "\n",
       "      manyata park  south  tc.palya  \n",
       "8086             0      0         0  \n",
       "34               0      0         0  \n",
       "8                0      0         0  \n",
       "6287             0      0         0  \n",
       "8336             0      0         0  \n",
       "...            ...    ...       ...  \n",
       "2542             0      0         0  \n",
       "7360             0      0         0  \n",
       "2444             0      0         0  \n",
       "4644             0      0         0  \n",
       "967              0      0         0  \n",
       "\n",
       "[1098 rows x 510 columns]"
      ]
     },
     "execution_count": 105,
     "metadata": {},
     "output_type": "execute_result"
    }
   ],
   "source": [
    "print('Lenght of training data:',len(X_train))\n",
    "print('Lenght of testing data:',len(X_test))\n",
    "X_test"
   ]
  },
  {
   "cell_type": "code",
   "execution_count": null,
   "metadata": {},
   "outputs": [],
   "source": []
  },
  {
   "cell_type": "code",
   "execution_count": 106,
   "metadata": {},
   "outputs": [],
   "source": [
    "scaler = MinMaxScaler()\n",
    "\n",
    "# fit and transfrom\n",
    "X_train = scaler.fit_transform(X_train)\n",
    "X_test = scaler.transform(X_test)"
   ]
  },
  {
   "cell_type": "code",
   "execution_count": 107,
   "metadata": {},
   "outputs": [],
   "source": [
    "model = Sequential()\n",
    "\n",
    "# input layer\n",
    "model.add(Input(shape=(510,)))\n",
    "\n",
    "# hidden layers\n",
    "model.add(Dense(20,activation='relu'))\n",
    "model.add(Dense(30,activation='relu'))\n",
    "model.add(Dense(30,activation='relu'))\n",
    "model.add(Dense(20,activation='relu'))\n",
    "model.add(Dense(20,activation='relu'))\n",
    "model.add(Dense(30,activation='relu'))\n",
    "model.add(Dense(30,activation='relu'))\n",
    "\n",
    "\n",
    "# output layer\n",
    "model.add(Dense(1,activation='linear'))\n",
    "\n",
    "model.compile(optimizer='adam',loss='mse')"
   ]
  },
  {
   "cell_type": "code",
   "execution_count": 108,
   "metadata": {},
   "outputs": [
    {
     "name": "stdout",
     "output_type": "stream",
     "text": [
      "Epoch 1/100\n",
      "88/88 [==============================] - 0s 5ms/step - loss: 14338.6045 - val_loss: 4887.7207\n",
      "Epoch 2/100\n",
      "88/88 [==============================] - 0s 2ms/step - loss: 6062.7266 - val_loss: 4287.7974\n",
      "Epoch 3/100\n",
      "88/88 [==============================] - 0s 2ms/step - loss: 5039.3647 - val_loss: 2979.1335\n",
      "Epoch 4/100\n",
      "88/88 [==============================] - 0s 2ms/step - loss: 3670.6404 - val_loss: 2101.5854\n",
      "Epoch 5/100\n",
      "88/88 [==============================] - 0s 2ms/step - loss: 2893.9465 - val_loss: 1796.6582\n",
      "Epoch 6/100\n",
      "88/88 [==============================] - 0s 2ms/step - loss: 2283.2700 - val_loss: 1476.1991\n",
      "Epoch 7/100\n",
      "88/88 [==============================] - 0s 2ms/step - loss: 1843.7770 - val_loss: 1318.9088\n",
      "Epoch 8/100\n",
      "88/88 [==============================] - 0s 2ms/step - loss: 1421.8215 - val_loss: 1112.8605\n",
      "Epoch 9/100\n",
      "88/88 [==============================] - 0s 2ms/step - loss: 1100.3401 - val_loss: 1025.7505\n",
      "Epoch 10/100\n",
      "88/88 [==============================] - 0s 2ms/step - loss: 817.3885 - val_loss: 906.2885\n",
      "Epoch 11/100\n",
      "88/88 [==============================] - 0s 2ms/step - loss: 593.5550 - val_loss: 947.5460\n",
      "Epoch 12/100\n",
      "88/88 [==============================] - 0s 2ms/step - loss: 475.7224 - val_loss: 944.7727\n",
      "Epoch 13/100\n",
      "88/88 [==============================] - 0s 2ms/step - loss: 342.9054 - val_loss: 966.2316\n",
      "Epoch 14/100\n",
      "88/88 [==============================] - 0s 2ms/step - loss: 294.1647 - val_loss: 995.3812\n",
      "Epoch 15/100\n",
      "88/88 [==============================] - 0s 2ms/step - loss: 259.0314 - val_loss: 1201.7904\n",
      "Epoch 16/100\n",
      "88/88 [==============================] - 0s 2ms/step - loss: 218.0794 - val_loss: 913.3030\n",
      "Epoch 17/100\n",
      "88/88 [==============================] - 0s 2ms/step - loss: 221.4898 - val_loss: 1155.4785\n",
      "Epoch 18/100\n",
      "88/88 [==============================] - 0s 2ms/step - loss: 225.3390 - val_loss: 920.7487\n",
      "Epoch 19/100\n",
      "88/88 [==============================] - 0s 2ms/step - loss: 193.2475 - val_loss: 937.3358\n",
      "Epoch 20/100\n",
      "88/88 [==============================] - 0s 2ms/step - loss: 187.3631 - val_loss: 980.4913\n",
      "Epoch 21/100\n",
      "88/88 [==============================] - 0s 2ms/step - loss: 183.2318 - val_loss: 999.9384\n",
      "Epoch 22/100\n",
      "88/88 [==============================] - 0s 2ms/step - loss: 175.9857 - val_loss: 991.9946\n",
      "Epoch 23/100\n",
      "88/88 [==============================] - 0s 2ms/step - loss: 181.8188 - val_loss: 1015.2892\n",
      "Epoch 24/100\n",
      "88/88 [==============================] - 0s 2ms/step - loss: 178.7805 - val_loss: 832.7985\n",
      "Epoch 25/100\n",
      "88/88 [==============================] - 0s 2ms/step - loss: 160.3796 - val_loss: 1221.7170\n",
      "Epoch 26/100\n",
      "88/88 [==============================] - 0s 2ms/step - loss: 158.8893 - val_loss: 853.3036\n",
      "Epoch 27/100\n",
      "88/88 [==============================] - 0s 2ms/step - loss: 165.9298 - val_loss: 857.8290\n",
      "Epoch 28/100\n",
      "88/88 [==============================] - 0s 2ms/step - loss: 163.6124 - val_loss: 857.1021\n",
      "Epoch 29/100\n",
      "88/88 [==============================] - 0s 2ms/step - loss: 165.1750 - val_loss: 917.7200\n",
      "Epoch 30/100\n",
      "88/88 [==============================] - 0s 2ms/step - loss: 148.2935 - val_loss: 836.5453\n",
      "Epoch 31/100\n",
      "88/88 [==============================] - 0s 2ms/step - loss: 163.3708 - val_loss: 951.6232\n",
      "Epoch 32/100\n",
      "88/88 [==============================] - 0s 2ms/step - loss: 160.0911 - val_loss: 807.4521\n",
      "Epoch 33/100\n",
      "88/88 [==============================] - 0s 2ms/step - loss: 142.1146 - val_loss: 758.9608\n",
      "Epoch 34/100\n",
      "88/88 [==============================] - 0s 2ms/step - loss: 128.5794 - val_loss: 854.6582\n",
      "Epoch 35/100\n",
      "88/88 [==============================] - 0s 2ms/step - loss: 152.6245 - val_loss: 876.5978\n",
      "Epoch 36/100\n",
      "88/88 [==============================] - 0s 2ms/step - loss: 130.3332 - val_loss: 866.1520\n",
      "Epoch 37/100\n",
      "88/88 [==============================] - 0s 2ms/step - loss: 143.0887 - val_loss: 699.1892\n",
      "Epoch 38/100\n",
      "88/88 [==============================] - 0s 2ms/step - loss: 129.6844 - val_loss: 683.1851\n",
      "Epoch 39/100\n",
      "88/88 [==============================] - 0s 2ms/step - loss: 136.1438 - val_loss: 807.4559\n",
      "Epoch 40/100\n",
      "88/88 [==============================] - 0s 3ms/step - loss: 159.1716 - val_loss: 749.9933\n",
      "Epoch 41/100\n",
      "88/88 [==============================] - 0s 3ms/step - loss: 140.4027 - val_loss: 675.8057\n",
      "Epoch 42/100\n",
      "88/88 [==============================] - 0s 3ms/step - loss: 132.8478 - val_loss: 633.8193\n",
      "Epoch 43/100\n",
      "88/88 [==============================] - 0s 3ms/step - loss: 143.3267 - val_loss: 705.8649\n",
      "Epoch 44/100\n",
      "88/88 [==============================] - 0s 3ms/step - loss: 137.7969 - val_loss: 652.0789\n",
      "Epoch 45/100\n",
      "88/88 [==============================] - 0s 3ms/step - loss: 148.6062 - val_loss: 656.8977\n",
      "Epoch 46/100\n",
      "88/88 [==============================] - 0s 3ms/step - loss: 142.5029 - val_loss: 620.0096\n",
      "Epoch 47/100\n",
      "88/88 [==============================] - 0s 3ms/step - loss: 147.8122 - val_loss: 667.9115\n",
      "Epoch 48/100\n",
      "88/88 [==============================] - 0s 3ms/step - loss: 123.3563 - val_loss: 733.2630\n",
      "Epoch 49/100\n",
      "88/88 [==============================] - 0s 2ms/step - loss: 148.8284 - val_loss: 672.3291\n",
      "Epoch 50/100\n",
      "88/88 [==============================] - 0s 2ms/step - loss: 184.0649 - val_loss: 808.8299\n",
      "Epoch 51/100\n",
      "88/88 [==============================] - 0s 2ms/step - loss: 253.5404 - val_loss: 618.0558\n",
      "Epoch 52/100\n",
      "88/88 [==============================] - 0s 2ms/step - loss: 138.6191 - val_loss: 631.5920\n",
      "Epoch 53/100\n",
      "88/88 [==============================] - 0s 2ms/step - loss: 108.7531 - val_loss: 614.7473\n",
      "Epoch 54/100\n",
      "88/88 [==============================] - 0s 2ms/step - loss: 112.2342 - val_loss: 579.9697\n",
      "Epoch 55/100\n",
      "88/88 [==============================] - 0s 2ms/step - loss: 108.3394 - val_loss: 628.9036\n",
      "Epoch 56/100\n",
      "88/88 [==============================] - 0s 2ms/step - loss: 99.8977 - val_loss: 699.3431\n",
      "Epoch 57/100\n",
      "88/88 [==============================] - 0s 2ms/step - loss: 99.1292 - val_loss: 627.8502\n",
      "Epoch 58/100\n",
      "88/88 [==============================] - 0s 2ms/step - loss: 113.2168 - val_loss: 584.7411\n",
      "Epoch 59/100\n",
      "88/88 [==============================] - 0s 2ms/step - loss: 101.5772 - val_loss: 624.6245\n",
      "Epoch 60/100\n",
      "88/88 [==============================] - 0s 2ms/step - loss: 109.9120 - val_loss: 605.2985\n",
      "Epoch 61/100\n",
      "88/88 [==============================] - 0s 2ms/step - loss: 172.6932 - val_loss: 631.3924\n",
      "Epoch 62/100\n",
      "88/88 [==============================] - 0s 2ms/step - loss: 159.6974 - val_loss: 578.7637\n",
      "Epoch 63/100\n",
      "88/88 [==============================] - 0s 2ms/step - loss: 158.7308 - val_loss: 574.4299\n",
      "Epoch 64/100\n",
      "88/88 [==============================] - 0s 2ms/step - loss: 142.7999 - val_loss: 702.3576\n",
      "Epoch 65/100\n",
      "88/88 [==============================] - 0s 2ms/step - loss: 111.4806 - val_loss: 681.1293\n",
      "Epoch 66/100\n",
      "88/88 [==============================] - 0s 2ms/step - loss: 99.2940 - val_loss: 564.0330\n",
      "Epoch 67/100\n",
      "88/88 [==============================] - 0s 2ms/step - loss: 112.1917 - val_loss: 615.5966\n",
      "Epoch 68/100\n",
      "88/88 [==============================] - 0s 2ms/step - loss: 135.5067 - val_loss: 599.9844\n",
      "Epoch 69/100\n",
      "88/88 [==============================] - 0s 2ms/step - loss: 109.1968 - val_loss: 532.7358\n",
      "Epoch 70/100\n",
      "88/88 [==============================] - 0s 2ms/step - loss: 140.8176 - val_loss: 650.4186\n",
      "Epoch 71/100\n",
      "88/88 [==============================] - 0s 2ms/step - loss: 142.4886 - val_loss: 602.2457\n",
      "Epoch 72/100\n",
      "88/88 [==============================] - 0s 2ms/step - loss: 171.5095 - val_loss: 593.4254\n",
      "Epoch 73/100\n",
      "88/88 [==============================] - 0s 2ms/step - loss: 141.0394 - val_loss: 541.8787\n",
      "Epoch 74/100\n",
      "88/88 [==============================] - 0s 2ms/step - loss: 193.4064 - val_loss: 523.3640\n",
      "Epoch 75/100\n",
      "88/88 [==============================] - 0s 2ms/step - loss: 102.3457 - val_loss: 566.1270\n",
      "Epoch 76/100\n",
      "88/88 [==============================] - 0s 2ms/step - loss: 95.9998 - val_loss: 547.3497\n",
      "Epoch 77/100\n",
      "88/88 [==============================] - 0s 2ms/step - loss: 90.1906 - val_loss: 577.2865\n",
      "Epoch 78/100\n",
      "88/88 [==============================] - 0s 2ms/step - loss: 122.7921 - val_loss: 527.5660\n",
      "Epoch 79/100\n",
      "88/88 [==============================] - 0s 2ms/step - loss: 90.9300 - val_loss: 550.1528\n",
      "Epoch 80/100\n",
      "88/88 [==============================] - 0s 2ms/step - loss: 92.5677 - val_loss: 583.8721\n",
      "Epoch 81/100\n",
      "88/88 [==============================] - 0s 2ms/step - loss: 96.1779 - val_loss: 503.2692\n",
      "Epoch 82/100\n",
      "88/88 [==============================] - 0s 2ms/step - loss: 104.9368 - val_loss: 497.4352\n",
      "Epoch 83/100\n",
      "88/88 [==============================] - 0s 2ms/step - loss: 115.8475 - val_loss: 494.2546\n",
      "Epoch 84/100\n",
      "88/88 [==============================] - 0s 2ms/step - loss: 95.4325 - val_loss: 529.1416\n",
      "Epoch 85/100\n",
      "88/88 [==============================] - 0s 2ms/step - loss: 94.5680 - val_loss: 522.5688\n",
      "Epoch 86/100\n",
      "88/88 [==============================] - 0s 2ms/step - loss: 95.0320 - val_loss: 520.8015\n",
      "Epoch 87/100\n",
      "88/88 [==============================] - 0s 2ms/step - loss: 125.3331 - val_loss: 511.9002\n",
      "Epoch 88/100\n",
      "88/88 [==============================] - 0s 2ms/step - loss: 100.8147 - val_loss: 499.1705\n",
      "Epoch 89/100\n",
      "88/88 [==============================] - 0s 2ms/step - loss: 103.4278 - val_loss: 502.3087\n",
      "Epoch 90/100\n",
      "88/88 [==============================] - 0s 2ms/step - loss: 148.2932 - val_loss: 536.9155\n",
      "Epoch 91/100\n",
      "88/88 [==============================] - 0s 2ms/step - loss: 167.0193 - val_loss: 489.9801\n",
      "Epoch 92/100\n",
      "88/88 [==============================] - 0s 2ms/step - loss: 101.0358 - val_loss: 553.4681\n",
      "Epoch 93/100\n",
      "88/88 [==============================] - 0s 2ms/step - loss: 85.0643 - val_loss: 474.4454\n",
      "Epoch 94/100\n",
      "88/88 [==============================] - 0s 2ms/step - loss: 79.1600 - val_loss: 497.7427\n",
      "Epoch 95/100\n",
      "88/88 [==============================] - 0s 2ms/step - loss: 95.3164 - val_loss: 500.1763\n",
      "Epoch 96/100\n",
      "88/88 [==============================] - 0s 2ms/step - loss: 96.1238 - val_loss: 482.6149\n",
      "Epoch 97/100\n",
      "88/88 [==============================] - 0s 2ms/step - loss: 79.3442 - val_loss: 511.8224\n",
      "Epoch 98/100\n",
      "88/88 [==============================] - 0s 2ms/step - loss: 92.1674 - val_loss: 495.1282\n",
      "Epoch 99/100\n",
      "88/88 [==============================] - 0s 2ms/step - loss: 101.6498 - val_loss: 481.4031\n",
      "Epoch 100/100\n",
      "88/88 [==============================] - 0s 2ms/step - loss: 82.1215 - val_loss: 496.1896\n"
     ]
    },
    {
     "data": {
      "text/plain": [
       "<tensorflow.python.keras.callbacks.History at 0x18fb22a7790>"
      ]
     },
     "execution_count": 108,
     "metadata": {},
     "output_type": "execute_result"
    }
   ],
   "source": [
    "model.fit(x=X_train,y=y_train.values,validation_data=(X_test,y_test.values),batch_size=50,epochs=100)\n"
   ]
  },
  {
   "cell_type": "code",
   "execution_count": 109,
   "metadata": {},
   "outputs": [
    {
     "name": "stdout",
     "output_type": "stream",
     "text": [
      "r2 score: 0.9157906339577443\n"
     ]
    }
   ],
   "source": [
    "y_predicted = model.predict(X_test)\n",
    "\n",
    "print('r2 score:',r2_score(y_test,y_predicted))"
   ]
  },
  {
   "cell_type": "code",
   "execution_count": 110,
   "metadata": {},
   "outputs": [
    {
     "data": {
      "image/png": "[encoded data removed]",
      "text/plain": [
       "<Figure size 1296x432 with 2 Axes>"
      ]
     },
     "metadata": {},
     "output_type": "display_data"
    }
   ],
   "source": [
    "\n",
    "fig,ax = plt.subplots(ncols=2,figsize=(18,6))\n",
    "\n",
    "y_test_values = y_test.values\n",
    "y_predicted_values = y_predicted.reshape(len(y_predicted))\n",
    "errors = y_test_values - y_predicted_values\n",
    "\n",
    "sns.histplot(errors,ax=ax[0])\n",
    "ax[0].set_title('Error histogram')\n",
    "ax[0].set_xlabel('Error')\n",
    "\n",
    "ax[1].scatter(y_test_values,y_predicted_values)\n",
    "ax[1].plot(y_test_values,y_test_values,'r')\n",
    "ax[1].set_title('Model Prediction and Perfect fit')\n",
    "ax[1].set_xlabel('Y test')\n",
    "ax[1].set_ylabel('Model Prediction')\n",
    "plt.show()"
   ]
  },
  {
   "cell_type": "code",
   "execution_count": 111,
   "metadata": {},
   "outputs": [
    {
     "name": "stdout",
     "output_type": "stream",
     "text": [
      "Model: \"sequential\"\n",
      "_________________________________________________________________\n",
      "Layer (type)                 Output Shape              Param #   \n",
      "=================================================================\n",
      "dense (Dense)                (None, 20)                10220     \n",
      "_________________________________________________________________\n",
      "dense_1 (Dense)              (None, 30)                630       \n",
      "_________________________________________________________________\n",
      "dense_2 (Dense)              (None, 30)                930       \n",
      "_________________________________________________________________\n",
      "dense_3 (Dense)              (None, 20)                620       \n",
      "_________________________________________________________________\n",
      "dense_4 (Dense)              (None, 20)                420       \n",
      "_________________________________________________________________\n",
      "dense_5 (Dense)              (None, 30)                630       \n",
      "_________________________________________________________________\n",
      "dense_6 (Dense)              (None, 30)                930       \n",
      "_________________________________________________________________\n",
      "dense_7 (Dense)              (None, 1)                 31        \n",
      "=================================================================\n",
      "Total params: 14,411\n",
      "Trainable params: 14,411\n",
      "Non-trainable params: 0\n",
      "_________________________________________________________________\n"
     ]
    }
   ],
   "source": [
    "model.summary()\n"
   ]
  },
  {
   "cell_type": "code",
   "execution_count": null,
   "metadata": {},
   "outputs": [],
   "source": []
  }
 ],
 "metadata": {
  "kernelspec": {
   "display_name": "Python 3 (ipykernel)",
   "language": "python",
   "name": "python3"
  },
  "language_info": {
   "codemirror_mode": {
    "name": "ipython",
    "version": 3
   },
   "file_extension": ".py",
   "mimetype": "text/x-python",
   "name": "python",
   "nbconvert_exporter": "python",
   "pygments_lexer": "ipython3",
   "version": "3.8.11"
  }
 },
 "nbformat": 4,
 "nbformat_minor": 4
}
